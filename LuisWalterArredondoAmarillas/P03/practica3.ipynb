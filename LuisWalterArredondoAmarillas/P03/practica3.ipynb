{
 "cells": [
  {
   "cell_type": "code",
   "execution_count": 1,
   "id": "8839e5c7-d94d-4c76-9dee-cc0c947a388c",
   "metadata": {},
   "outputs": [],
   "source": [
    "import nltk\n",
    "from nltk.corpus import cess_esp\n",
    "from sklearn_crfsuite import CRF\n",
    "from sklearn.model_selection import train_test_split"
   ]
  },
  {
   "cell_type": "code",
   "execution_count": 2,
   "id": "6dc7682f-20f4-471a-8616-fd09e3bc4a09",
   "metadata": {},
   "outputs": [],
   "source": [
    "import ast\n",
    "\n",
    "# Nombre del archivo a leer\n",
    "nombre_archivo = \"./corpus_otomi\"\n",
    "\n",
    "# Lista para almacenar los datos recuperados\n",
    "datos_recuperados = []\n",
    "\n",
    "# Leer el archivo y convertir cada línea en una lista de Python\n",
    "with open(nombre_archivo, 'r', encoding='utf-8') as archivo:\n",
    "    for linea in archivo:\n",
    "        try:\n",
    "            # Utilizamos ast.literal_eval para interpretar la línea como una lista válida en Python\n",
    "            lista_datos = ast.literal_eval(linea.strip())\n",
    "            datos_recuperados.append(lista_datos)\n",
    "        except ValueError as e:\n",
    "            print(f\"Error al procesar la línea: {linea}\")\n",
    "            print(e)\n",
    "\n",
    "corpus = datos_recuperados\n"
   ]
  },
  {
   "cell_type": "code",
   "execution_count": 3,
   "id": "5c6d887f-91f0-438a-9d8e-90f9f8e4578f",
   "metadata": {},
   "outputs": [
    {
     "data": {
      "text/plain": [
       "1705"
      ]
     },
     "execution_count": 3,
     "metadata": {},
     "output_type": "execute_result"
    }
   ],
   "source": [
    "len(corpus)"
   ]
  },
  {
   "cell_type": "code",
   "execution_count": 4,
   "id": "f5418e02-e250-4eff-9321-e90cc626bc7a",
   "metadata": {},
   "outputs": [
    {
     "data": {
      "text/plain": [
       "[[['n', 'psd'], ['dó', '1.cpl'], ['phu̱di', 'stem'], 'v'],\n",
       " [['dó', '1.cpl'], ['pe̱phí', 'stem'], 'v'],\n",
       " [['bi', '3.cpl'], ['t', 'lig'], [\"'u̱n\", 'stem'], ['gí', '1.obj'], 'v'],\n",
       " [['bi', '3.cpl'], ['mähtratá', 'stem'], ['gí', '1.obj'], 'v'],\n",
       " [['ko', 'stem'], 'obl'],\n",
       " [['chíkóhté', 'stem'], 'obl']]"
      ]
     },
     "execution_count": 4,
     "metadata": {},
     "output_type": "execute_result"
    }
   ],
   "source": [
    "corpus[0]"
   ]
  },
  {
   "cell_type": "code",
   "execution_count": 5,
   "id": "af53ff67-95cf-4b10-a888-f561a2a8a4bf",
   "metadata": {},
   "outputs": [],
   "source": [
    "from unidecode import unidecode\n",
    "def get_corpus_list(corpus):\n",
    "    biglst = []\n",
    "    \n",
    "    for sentence in corpus:\n",
    "        shortlst = []\n",
    "        for trozo in sentence:\n",
    "            s = \"\"\n",
    "            s.encode('utf-8')\n",
    "            for chunk, gloss in trozo[:-1]:\n",
    "                s += chunk\n",
    "            pos = trozo[-1]\n",
    "            shortlst.append((s, unidecode(pos)))\n",
    "        biglst.append(shortlst)\n",
    "\n",
    "    return biglst\n",
    "cuerpo = get_corpus_list(corpus)"
   ]
  },
  {
   "cell_type": "code",
   "execution_count": 6,
   "id": "283b9f4b-603f-41d8-b366-5b03de6c451a",
   "metadata": {},
   "outputs": [
    {
     "data": {
      "text/plain": [
       "[('ndóphu̱di', 'v'),\n",
       " ('dópe̱phí', 'v'),\n",
       " (\"bit'u̱ngí\", 'v'),\n",
       " ('bimähtratágí', 'v'),\n",
       " ('ko', 'obl'),\n",
       " ('chíkóhté', 'obl')]"
      ]
     },
     "execution_count": 6,
     "metadata": {},
     "output_type": "execute_result"
    }
   ],
   "source": [
    "cuerpo[0]"
   ]
  },
  {
   "cell_type": "code",
   "execution_count": 7,
   "id": "74467fd9-78ab-46ea-a7c8-c61d13f638c9",
   "metadata": {},
   "outputs": [],
   "source": [
    "def word_to_features(sent, i):\n",
    "    word = sent[i][0]\n",
    "    features = {\n",
    "        'word.lower()': word.lower(),\n",
    "        #'word[-3:]': word[-3:],\n",
    "        'word[:3]': word[:3],\n",
    "        'word.lenght': len(word),\n",
    "        'word.quote': \"'\" in word,\n",
    "        'word.isascii()' : word.isascii(),\n",
    "        'word.istitle()': word.istitle(),\n",
    "        'word.isdigit()': word.isdigit(),\n",
    "    }\n",
    "    if i > 0:\n",
    "        prev_word = sent[i - 1][0]\n",
    "        features.update({\n",
    "            'prev_word.lower()': prev_word.lower(),\n",
    "            'prev_word[:3]': prev_word[:3],\n",
    "            'prev_word.istitle()': prev_word.istitle(),\n",
    "        })\n",
    "    else:\n",
    "        features['BOS'] = True  # Beginning of sentence\n",
    "    if len(sent) > i+1:\n",
    "        next_word = sent[i + 1][0]\n",
    "        features.update({\n",
    "            'next_word.lower()': next_word.lower(),\n",
    "            'next_word[:3]': next_word[:3],\n",
    "            'next_word.istitle()': next_word.istitle(),\n",
    "        })\n",
    "\n",
    "    return features\n",
    "\n",
    "# Extract features and labels\n",
    "def sent_to_features(sent):\n",
    "    return [word_to_features(sent, i) for i in range(len(sent))]\n",
    "\n",
    "def sent_to_labels(sent):\n",
    "    return [label for token, label in sent]"
   ]
  },
  {
   "cell_type": "code",
   "execution_count": 8,
   "id": "9763d2fc-9cd6-410c-9f19-ca6e65adee85",
   "metadata": {},
   "outputs": [],
   "source": [
    "X = [[word_to_features(sent, i) for i in range(len(sent))] for sent in cuerpo]\n",
    "y = [[pos for _, pos in sent] for sent in cuerpo]"
   ]
  },
  {
   "cell_type": "code",
   "execution_count": 9,
   "id": "880fa82e-bbd5-4ad7-8d67-2c27714dd8c5",
   "metadata": {},
   "outputs": [
    {
     "data": {
      "text/plain": [
       "True"
      ]
     },
     "execution_count": 9,
     "metadata": {},
     "output_type": "execute_result"
    }
   ],
   "source": [
    "len(X[0]) == len(y[0])"
   ]
  },
  {
   "cell_type": "code",
   "execution_count": 10,
   "id": "cc43d149-e28b-4b54-a8a0-b25e76484955",
   "metadata": {},
   "outputs": [],
   "source": [
    "X_train, X_test, y_train, y_test = train_test_split(X, y, test_size=0.35, random_state=42)"
   ]
  },
  {
   "cell_type": "code",
   "execution_count": 11,
   "id": "a7a4576b-4b6a-45b4-b34e-523725fec694",
   "metadata": {},
   "outputs": [
    {
     "data": {
      "text/plain": [
       "[{'word.lower()': \"iphoxihu̱yi̱'\",\n",
       "  'word[:3]': 'iph',\n",
       "  'word.lenght': 13,\n",
       "  'word.quote': True,\n",
       "  'word.isascii()': False,\n",
       "  'word.istitle()': False,\n",
       "  'word.isdigit()': False,\n",
       "  'BOS': True,\n",
       "  'next_word.lower()': \"k'i̱\",\n",
       "  'next_word[:3]': \"k'i\",\n",
       "  'next_word.istitle()': False},\n",
       " {'word.lower()': \"k'i̱\",\n",
       "  'word[:3]': \"k'i\",\n",
       "  'word.lenght': 4,\n",
       "  'word.quote': True,\n",
       "  'word.isascii()': False,\n",
       "  'word.istitle()': False,\n",
       "  'word.isdigit()': False,\n",
       "  'prev_word.lower()': \"iphoxihu̱yi̱'\",\n",
       "  'prev_word[:3]': 'iph',\n",
       "  'prev_word.istitle()': False,\n",
       "  'next_word.lower()': \"mät'u̱yi̱'\",\n",
       "  'next_word[:3]': 'mät',\n",
       "  'next_word.istitle()': False},\n",
       " {'word.lower()': \"mät'u̱yi̱'\",\n",
       "  'word[:3]': 'mät',\n",
       "  'word.lenght': 10,\n",
       "  'word.quote': True,\n",
       "  'word.isascii()': False,\n",
       "  'word.istitle()': False,\n",
       "  'word.isdigit()': False,\n",
       "  'prev_word.lower()': \"k'i̱\",\n",
       "  'prev_word[:3]': \"k'i\",\n",
       "  'prev_word.istitle()': False,\n",
       "  'next_word.lower()': \"k'i̱\",\n",
       "  'next_word[:3]': \"k'i\",\n",
       "  'next_word.istitle()': False},\n",
       " {'word.lower()': \"k'i̱\",\n",
       "  'word[:3]': \"k'i\",\n",
       "  'word.lenght': 4,\n",
       "  'word.quote': True,\n",
       "  'word.isascii()': False,\n",
       "  'word.istitle()': False,\n",
       "  'word.isdigit()': False,\n",
       "  'prev_word.lower()': \"mät'u̱yi̱'\",\n",
       "  'prev_word[:3]': 'mät',\n",
       "  'prev_word.istitle()': False,\n",
       "  'next_word.lower()': \"mät'u̱xúyi̱'\",\n",
       "  'next_word[:3]': 'mät',\n",
       "  'next_word.istitle()': False},\n",
       " {'word.lower()': \"mät'u̱xúyi̱'\",\n",
       "  'word[:3]': 'mät',\n",
       "  'word.lenght': 12,\n",
       "  'word.quote': True,\n",
       "  'word.isascii()': False,\n",
       "  'word.istitle()': False,\n",
       "  'word.isdigit()': False,\n",
       "  'prev_word.lower()': \"k'i̱\",\n",
       "  'prev_word[:3]': \"k'i\",\n",
       "  'prev_word.istitle()': False}]"
      ]
     },
     "execution_count": 11,
     "metadata": {},
     "output_type": "execute_result"
    }
   ],
   "source": [
    "X_train[0]"
   ]
  },
  {
   "cell_type": "code",
   "execution_count": 12,
   "id": "86da066c-cd76-4ccb-a441-564d1c0b541c",
   "metadata": {},
   "outputs": [
    {
     "name": "stderr",
     "output_type": "stream",
     "text": [
      "loading training data to CRFsuite: 100%|█████████████████████████████████████████| 1108/1108 [00:00<00:00, 19629.35it/s]\n"
     ]
    },
    {
     "name": "stdout",
     "output_type": "stream",
     "text": [
      "\n",
      "Feature generation\n",
      "type: CRF1d\n",
      "feature.minfreq: 0.000000\n",
      "feature.possible_states: 0\n",
      "feature.possible_transitions: 1\n",
      "0....1....2....3....4....5....6....7....8....9....10\n",
      "Number of features: 12691\n",
      "Seconds required: 0.015\n",
      "\n",
      "L-BFGS optimization\n",
      "c1: 0.878054\n",
      "c2: 0.034124\n",
      "num_memories: 6\n",
      "max_iterations: 100\n",
      "epsilon: 0.000010\n",
      "stop: 10\n",
      "delta: 0.000010\n",
      "linesearch: MoreThuente\n",
      "linesearch.max_iterations: 20\n",
      "\n",
      "Iter 1   time=0.03  loss=14607.35 active=11342 feature_norm=1.00\n",
      "Iter 2   time=0.02  loss=12803.65 active=9456  feature_norm=1.06\n",
      "Iter 3   time=0.02  loss=12467.66 active=9299  feature_norm=1.08\n",
      "Iter 4   time=0.02  loss=11656.26 active=8594  feature_norm=1.23\n",
      "Iter 5   time=0.03  loss=10611.43 active=6954  feature_norm=1.85\n",
      "Iter 6   time=0.02  loss=9822.22  active=6995  feature_norm=2.13\n",
      "Iter 7   time=0.02  loss=9282.77  active=6890  feature_norm=2.68\n",
      "Iter 8   time=0.02  loss=8411.72  active=6914  feature_norm=3.34\n",
      "Iter 9   time=0.02  loss=7863.05  active=6890  feature_norm=4.30\n",
      "Iter 10  time=0.02  loss=7186.51  active=6856  feature_norm=5.17\n",
      "Iter 11  time=0.02  loss=6761.86  active=6428  feature_norm=5.94\n",
      "Iter 12  time=0.02  loss=6518.67  active=6136  feature_norm=6.50\n",
      "Iter 13  time=0.02  loss=6267.45  active=5789  feature_norm=7.32\n",
      "Iter 14  time=0.02  loss=5950.35  active=5476  feature_norm=8.06\n",
      "Iter 15  time=0.02  loss=5464.32  active=5109  feature_norm=9.41\n",
      "Iter 16  time=0.02  loss=5397.63  active=4755  feature_norm=11.12\n",
      "Iter 17  time=0.02  loss=5096.59  active=4839  feature_norm=10.91\n",
      "Iter 18  time=0.02  loss=4988.80  active=4624  feature_norm=11.53\n",
      "Iter 19  time=0.02  loss=4794.28  active=4423  feature_norm=12.26\n",
      "Iter 20  time=0.02  loss=4339.91  active=3962  feature_norm=16.42\n",
      "Iter 21  time=0.03  loss=4199.95  active=3933  feature_norm=17.29\n",
      "Iter 22  time=0.02  loss=4077.96  active=3909  feature_norm=18.12\n",
      "Iter 23  time=0.02  loss=3839.08  active=3752  feature_norm=20.48\n",
      "Iter 24  time=0.02  loss=3561.54  active=3675  feature_norm=23.64\n",
      "Iter 25  time=0.02  loss=3374.64  active=3604  feature_norm=25.47\n",
      "Iter 26  time=0.02  loss=3232.30  active=3596  feature_norm=27.00\n",
      "Iter 27  time=0.02  loss=3111.62  active=3476  feature_norm=29.28\n",
      "Iter 28  time=0.02  loss=3033.46  active=3360  feature_norm=30.58\n",
      "Iter 29  time=0.02  loss=2926.94  active=3222  feature_norm=33.07\n",
      "Iter 30  time=0.05  loss=2907.50  active=3176  feature_norm=33.86\n",
      "Iter 31  time=0.02  loss=2861.70  active=3118  feature_norm=35.13\n",
      "Iter 32  time=0.02  loss=2822.33  active=2984  feature_norm=36.28\n",
      "Iter 33  time=0.02  loss=2780.41  active=2879  feature_norm=37.63\n",
      "Iter 34  time=0.03  loss=2770.04  active=2716  feature_norm=38.93\n",
      "Iter 35  time=0.02  loss=2714.35  active=2639  feature_norm=39.80\n",
      "Iter 36  time=0.02  loss=2689.46  active=2587  feature_norm=40.49\n",
      "Iter 37  time=0.02  loss=2647.67  active=2440  feature_norm=41.97\n",
      "Iter 38  time=0.02  loss=2638.74  active=2321  feature_norm=42.58\n",
      "Iter 39  time=0.02  loss=2622.98  active=2338  feature_norm=42.65\n",
      "Iter 40  time=0.02  loss=2615.54  active=2300  feature_norm=42.74\n",
      "Iter 41  time=0.02  loss=2602.09  active=2235  feature_norm=43.01\n",
      "Iter 42  time=0.02  loss=2587.95  active=2094  feature_norm=43.66\n",
      "Iter 43  time=0.02  loss=2581.81  active=2063  feature_norm=43.79\n",
      "Iter 44  time=0.02  loss=2576.48  active=2053  feature_norm=43.85\n",
      "Iter 45  time=0.02  loss=2573.18  active=2036  feature_norm=43.91\n",
      "Iter 46  time=0.02  loss=2567.64  active=1985  feature_norm=44.08\n",
      "Iter 47  time=0.02  loss=2562.04  active=1841  feature_norm=44.55\n",
      "Iter 48  time=0.02  loss=2556.30  active=1847  feature_norm=44.56\n",
      "Iter 49  time=0.02  loss=2553.46  active=1805  feature_norm=44.65\n",
      "Iter 50  time=0.02  loss=2547.41  active=1754  feature_norm=45.01\n",
      "Iter 51  time=0.02  loss=2542.90  active=1731  feature_norm=45.41\n",
      "Iter 52  time=0.02  loss=2539.72  active=1719  feature_norm=45.75\n",
      "Iter 53  time=0.02  loss=2535.92  active=1708  feature_norm=46.19\n",
      "Iter 54  time=0.02  loss=2533.29  active=1686  feature_norm=46.63\n",
      "Iter 55  time=0.02  loss=2531.11  active=1676  feature_norm=46.78\n",
      "Iter 56  time=0.02  loss=2528.96  active=1665  feature_norm=46.94\n",
      "Iter 57  time=0.02  loss=2525.78  active=1627  feature_norm=47.07\n",
      "Iter 58  time=0.02  loss=2522.84  active=1605  feature_norm=47.27\n",
      "Iter 59  time=0.02  loss=2519.89  active=1588  feature_norm=47.48\n",
      "Iter 60  time=0.02  loss=2517.59  active=1577  feature_norm=47.60\n",
      "Iter 61  time=0.02  loss=2515.30  active=1544  feature_norm=47.75\n",
      "Iter 62  time=0.02  loss=2513.89  active=1524  feature_norm=47.88\n",
      "Iter 63  time=0.02  loss=2512.44  active=1521  feature_norm=47.99\n",
      "Iter 64  time=0.02  loss=2511.08  active=1515  feature_norm=48.06\n",
      "Iter 65  time=0.02  loss=2509.83  active=1515  feature_norm=48.13\n",
      "Iter 66  time=0.02  loss=2509.10  active=1507  feature_norm=48.23\n",
      "Iter 67  time=0.02  loss=2508.19  active=1506  feature_norm=48.32\n",
      "Iter 68  time=0.02  loss=2507.12  active=1501  feature_norm=48.39\n",
      "Iter 69  time=0.02  loss=2506.46  active=1499  feature_norm=48.48\n",
      "Iter 70  time=0.02  loss=2505.62  active=1499  feature_norm=48.52\n",
      "Iter 71  time=0.02  loss=2504.92  active=1498  feature_norm=48.62\n",
      "Iter 72  time=0.02  loss=2504.62  active=1494  feature_norm=48.70\n",
      "Iter 73  time=0.02  loss=2503.75  active=1496  feature_norm=48.77\n",
      "Iter 74  time=0.02  loss=2503.39  active=1492  feature_norm=48.82\n",
      "Iter 75  time=0.02  loss=2502.89  active=1494  feature_norm=48.86\n",
      "Iter 76  time=0.02  loss=2502.57  active=1488  feature_norm=48.89\n",
      "Iter 77  time=0.02  loss=2502.14  active=1482  feature_norm=48.91\n",
      "Iter 78  time=0.02  loss=2501.94  active=1480  feature_norm=48.95\n",
      "Iter 79  time=0.02  loss=2501.45  active=1476  feature_norm=48.98\n",
      "Iter 80  time=0.02  loss=2501.30  active=1476  feature_norm=49.01\n",
      "Iter 81  time=0.02  loss=2500.77  active=1477  feature_norm=49.04\n",
      "Iter 82  time=0.02  loss=2500.50  active=1474  feature_norm=49.06\n",
      "Iter 83  time=0.02  loss=2500.26  active=1471  feature_norm=49.09\n",
      "Iter 84  time=0.02  loss=2499.76  active=1470  feature_norm=49.12\n",
      "Iter 85  time=0.02  loss=2499.34  active=1468  feature_norm=49.14\n",
      "Iter 86  time=0.02  loss=2499.07  active=1469  feature_norm=49.17\n",
      "Iter 87  time=0.02  loss=2498.60  active=1466  feature_norm=49.19\n",
      "Iter 88  time=0.02  loss=2497.96  active=1462  feature_norm=49.20\n",
      "Iter 89  time=0.02  loss=2497.59  active=1457  feature_norm=49.21\n",
      "Iter 90  time=0.02  loss=2497.01  active=1453  feature_norm=49.24\n",
      "Iter 91  time=0.02  loss=2496.31  active=1454  feature_norm=49.24\n",
      "Iter 92  time=0.02  loss=2495.89  active=1451  feature_norm=49.24\n",
      "Iter 93  time=0.02  loss=2495.34  active=1450  feature_norm=49.24\n",
      "Iter 94  time=0.02  loss=2495.11  active=1452  feature_norm=49.26\n",
      "Iter 95  time=0.02  loss=2494.84  active=1453  feature_norm=49.26\n",
      "Iter 96  time=0.02  loss=2494.56  active=1455  feature_norm=49.26\n",
      "Iter 97  time=0.02  loss=2494.36  active=1457  feature_norm=49.26\n",
      "Iter 98  time=0.02  loss=2494.09  active=1454  feature_norm=49.25\n",
      "Iter 99  time=0.02  loss=2493.65  active=1453  feature_norm=49.25\n",
      "Iter 100 time=0.03  loss=2493.35  active=1459  feature_norm=49.26\n",
      "L-BFGS terminated with the maximum number of iterations\n",
      "Total seconds required for training: 1.892\n",
      "\n",
      "Storing the model\n",
      "Number of active features: 1459 (12691)\n",
      "Number of active attributes: 1065 (7804)\n",
      "Number of active labels: 40 (40)\n",
      "Writing labels\n",
      "Writing attributes\n",
      "Writing feature references for transitions\n",
      "Writing feature references for attributes\n",
      "Seconds required: 0.001\n",
      "\n"
     ]
    }
   ],
   "source": [
    "from inspect import Attribute\n",
    "from sklearn_crfsuite import CRF\n",
    "# Initialize and train the CRF tagger: https://sklearn-crfsuite.readthedocs.io/en/latest/api.html\n",
    "crf = CRF(algorithm='lbfgs', c1=0.878054, c2=0.034124, max_iterations=100, all_possible_transitions=True, verbose=True)\n",
    "try:\n",
    "    crf.fit(X_train, y_train)\n",
    "except AttributeError as e:\n",
    "    print(e)"
   ]
  },
  {
   "cell_type": "code",
   "execution_count": 13,
   "id": "abba781a-8c56-4236-828e-7d71cd565160",
   "metadata": {},
   "outputs": [
    {
     "name": "stdout",
     "output_type": "stream",
     "text": [
      "              precision    recall  f1-score   support\n",
      "\n",
      "         aff       1.00      1.00      1.00         3\n",
      "    calvario       0.00      0.00      0.00         1\n",
      "      chalma       0.00      0.00      0.00         1\n",
      "      chente       1.00      1.00      1.00         1\n",
      "         cnj       0.98      0.94      0.96       282\n",
      "     cnj.adv       0.00      0.00      0.00         1\n",
      "        cond       1.00      0.33      0.50         6\n",
      "    conj.adv       0.78      1.00      0.88         7\n",
      "         dem       0.92      0.96      0.94       203\n",
      "         det       0.96      0.95      0.95       322\n",
      "         dim       1.00      1.00      1.00         5\n",
      "      emilio       0.00      0.00      0.00         1\n",
      "         gen       0.83      0.83      0.83        12\n",
      "          it       1.00      1.00      1.00         3\n",
      "        juan       0.00      0.00      0.00         2\n",
      "         lim       1.00      1.00      1.00         3\n",
      "         loc       1.00      0.50      0.67         2\n",
      "      mexico       0.00      0.00      0.00         1\n",
      "           n       0.97      0.66      0.78       105\n",
      "         neg       0.98      0.82      0.89        66\n",
      "         obl       0.88      0.92      0.90       844\n",
      "       p.loc       0.97      0.97      0.97        29\n",
      "    pascuala       1.00      1.00      1.00         1\n",
      "         prt       0.67      0.10      0.17        21\n",
      "   regular/v       0.00      0.00      0.00         2\n",
      "     tapanco       0.00      0.00      0.00         1\n",
      "      toluca       0.00      0.00      0.00         0\n",
      "       unkwn       0.85      0.52      0.65       135\n",
      "           v       0.86      0.96      0.91       879\n",
      "\n",
      "    accuracy                           0.90      2939\n",
      "   macro avg       0.64      0.57      0.59      2939\n",
      "weighted avg       0.90      0.90      0.89      2939\n",
      "\n"
     ]
    }
   ],
   "source": [
    "from sklearn.metrics import classification_report\n",
    "y_pred = crf.predict(X_test)\n",
    "\n",
    "# Flatten the true and predicted labels\n",
    "y_test_flat = [label for sent_labels in y_test for label in sent_labels]\n",
    "y_pred_flat = [label for sent_labels in y_pred for label in sent_labels]\n",
    "\n",
    "# Evaluate the model\n",
    "report = classification_report(y_true=y_test_flat, y_pred=y_pred_flat,zero_division=0)\n",
    "print(report)  "
   ]
  },
  {
   "cell_type": "code",
   "execution_count": 14,
   "id": "3b482c19-a43c-4f41-8b39-2fe72038d0ac",
   "metadata": {},
   "outputs": [
    {
     "name": "stdout",
     "output_type": "stream",
     "text": [
      "Confusion matrix:\n",
      "[[  3   0   0   0   0   0   0   0   0   0   0   0   0   0   0   0   0   0\n",
      "    0   0   0   0   0   0   0   0   0   0   0]\n",
      " [  0   0   0   0   0   0   0   0   0   0   0   0   0   0   0   0   0   0\n",
      "    0   0   0   0   0   0   0   0   0   0   1]\n",
      " [  0   0   0   0   0   0   0   0   0   0   0   0   0   0   0   0   0   0\n",
      "    0   0   1   0   0   0   0   0   0   0   0]\n",
      " [  0   0   0   1   0   0   0   0   0   0   0   0   0   0   0   0   0   0\n",
      "    0   0   0   0   0   0   0   0   0   0   0]\n",
      " [  0   0   0   0 266   0   0   0   0   0   0   0   0   0   0   0   0   0\n",
      "    0   0   8   0   0   0   0   0   0   0   8]\n",
      " [  0   0   0   0   0   0   0   1   0   0   0   0   0   0   0   0   0   0\n",
      "    0   0   0   0   0   0   0   0   0   0   0]\n",
      " [  0   0   0   0   3   0   2   0   0   0   0   0   0   0   0   0   0   0\n",
      "    0   0   1   0   0   0   0   0   0   0   0]\n",
      " [  0   0   0   0   0   0   0   7   0   0   0   0   0   0   0   0   0   0\n",
      "    0   0   0   0   0   0   0   0   0   0   0]\n",
      " [  0   0   0   0   0   0   0   0 194   5   0   0   0   0   0   0   0   0\n",
      "    0   0   1   0   0   1   0   0   0   2   0]\n",
      " [  0   0   0   0   0   0   0   0  16 305   0   0   0   0   0   0   0   0\n",
      "    0   0   0   0   0   0   0   0   0   0   1]\n",
      " [  0   0   0   0   0   0   0   0   0   0   5   0   0   0   0   0   0   0\n",
      "    0   0   0   0   0   0   0   0   0   0   0]\n",
      " [  0   0   0   0   0   0   0   0   0   0   0   0   0   0   0   0   0   0\n",
      "    0   0   1   0   0   0   0   0   0   0   0]\n",
      " [  0   0   0   0   0   0   0   0   0   0   0   0  10   0   0   0   0   0\n",
      "    0   0   1   0   0   0   0   0   0   0   1]\n",
      " [  0   0   0   0   0   0   0   0   0   0   0   0   0   3   0   0   0   0\n",
      "    0   0   0   0   0   0   0   0   0   0   0]\n",
      " [  0   0   0   0   0   0   0   0   0   0   0   0   0   0   0   0   0   0\n",
      "    0   0   2   0   0   0   0   0   0   0   0]\n",
      " [  0   0   0   0   0   0   0   0   0   0   0   0   0   0   0   3   0   0\n",
      "    0   0   0   0   0   0   0   0   0   0   0]\n",
      " [  0   0   0   0   0   0   0   0   0   0   0   0   0   0   0   0   1   0\n",
      "    0   0   1   0   0   0   0   0   0   0   0]\n",
      " [  0   0   0   0   0   0   0   0   0   0   0   0   0   0   0   0   0   0\n",
      "    0   0   1   0   0   0   0   0   0   0   0]\n",
      " [  0   0   0   0   0   0   0   0   0   8   0   0   0   0   0   0   0   0\n",
      "   69   0   7   0   0   0   0   0   1   1  19]\n",
      " [  0   0   0   0   0   0   0   0   0   0   0   0   0   0   0   0   0   0\n",
      "    0  54  10   0   0   0   0   0   0   0   2]\n",
      " [  0   0   0   0   1   0   0   1   0   0   0   0   0   0   0   0   0   0\n",
      "    1   1 774   1   0   0   0   0   0   6  59]\n",
      " [  0   0   0   0   0   0   0   0   0   0   0   0   0   0   0   0   0   0\n",
      "    0   0   1  28   0   0   0   0   0   0   0]\n",
      " [  0   0   0   0   0   0   0   0   0   0   0   0   0   0   0   0   0   0\n",
      "    0   0   0   0   1   0   0   0   0   0   0]\n",
      " [  0   0   0   0   2   0   0   0   0   0   0   0   2   0   0   0   0   0\n",
      "    0   0  13   0   0   2   0   0   0   0   2]\n",
      " [  0   0   0   0   0   0   0   0   0   0   0   0   0   0   0   0   0   0\n",
      "    0   0   2   0   0   0   0   0   0   0   0]\n",
      " [  0   0   0   0   0   0   0   0   0   0   0   0   0   0   0   0   0   0\n",
      "    0   0   0   0   0   0   0   0   0   0   1]\n",
      " [  0   0   0   0   0   0   0   0   0   0   0   0   0   0   0   0   0   0\n",
      "    0   0   0   0   0   0   0   0   0   0   0]\n",
      " [  0   0   0   0   0   0   0   0   0   0   0   0   0   0   0   0   0   0\n",
      "    0   0  24   0   0   0   0   0   0  70  41]\n",
      " [  0   0   0   0   0   0   0   0   0   0   0   0   0   0   0   0   0   0\n",
      "    1   0  29   0   0   0   0   0   0   3 846]]\n"
     ]
    },
    {
     "data": {
      "image/png": "[encoded data removed]",
      "text/plain": [
       "<Figure size 640x480 with 2 Axes>"
      ]
     },
     "metadata": {},
     "output_type": "display_data"
    }
   ],
   "source": [
    "from sklearn.metrics import ConfusionMatrixDisplay\n",
    "disp = ConfusionMatrixDisplay.from_predictions(y_test_flat, y_pred_flat, xticks_rotation='vertical')\n",
    "disp.figure_.suptitle(\"Confusion Matrix\")\n",
    "print(f\"Confusion matrix:\\n{disp.confusion_matrix}\")"
   ]
  },
  {
   "cell_type": "code",
   "execution_count": 15,
   "id": "8aaa9cd8-373d-4d86-8e08-e8952a497701",
   "metadata": {},
   "outputs": [
    {
     "name": "stdout",
     "output_type": "stream",
     "text": [
      "accuracy: 0.899625723035046\n",
      "precision 0.5671350534933722\n",
      "recall 0.6433245656423492\n",
      "f1_score 0.5858977130871064\n"
     ]
    }
   ],
   "source": [
    "from sklearn.metrics import accuracy_score\n",
    "from sklearn.metrics import precision_score\n",
    "from sklearn.metrics import recall_score\n",
    "from sklearn.metrics import f1_score\n",
    "\n",
    "print(\"accuracy:\",accuracy_score(y_pred_flat, y_test_flat))\n",
    "\n",
    "print(\"precision\",precision_score(y_pred_flat, y_test_flat, average=\"macro\",zero_division=0))\n",
    "print(\"recall\",recall_score(y_pred_flat, y_test_flat, average=\"macro\",zero_division=0))\n",
    "\n",
    "print(\"f1_score\",f1_score(y_pred_flat, y_test_flat, average=\"macro\"))"
   ]
  },
  {
   "cell_type": "code",
   "execution_count": null,
   "id": "e989cab0-ef06-4d97-86f1-1a262758246f",
   "metadata": {},
   "outputs": [
    {
     "name": "stdout",
     "output_type": "stream",
     "text": [
      "Prueba el modelo, presiona RET tecla para continuar, q para salir: \n"
     ]
    },
    {
     "name": "stdin",
     "output_type": "stream",
     "text": [
      " \n"
     ]
    },
    {
     "name": "stdout",
     "output_type": "stream",
     "text": [
      "oración:\n",
      "\t bidu̱mi  bizu̱hu̱\n",
      "predecido:\n",
      "\t [['prt', 'obl']]\n",
      "real:\n",
      "\t [['v', 'v']]\n",
      "Prueba el modelo, presiona RET tecla para continuar, q para salir: \n"
     ]
    },
    {
     "name": "stdin",
     "output_type": "stream",
     "text": [
      " \n"
     ]
    },
    {
     "name": "stdout",
     "output_type": "stream",
     "text": [
      "oración:\n",
      "\t gímátói\n",
      "predecido:\n",
      "\t [['v']]\n",
      "real:\n",
      "\t [['v']]\n",
      "Prueba el modelo, presiona RET tecla para continuar, q para salir: \n"
     ]
    },
    {
     "name": "stdin",
     "output_type": "stream",
     "text": [
      " \n"
     ]
    },
    {
     "name": "stdout",
     "output_type": "stream",
     "text": [
      "oración:\n",
      "\t go'únihé  yi̱  golpe\n",
      "predecido:\n",
      "\t [['prt', 'obl', 'gen']]\n",
      "real:\n",
      "\t [['v', 'det', 'obl']]\n",
      "Prueba el modelo, presiona RET tecla para continuar, q para salir: \n"
     ]
    },
    {
     "name": "stdin",
     "output_type": "stream",
     "text": [
      " \n"
     ]
    },
    {
     "name": "stdout",
     "output_type": "stream",
     "text": [
      "oración:\n",
      "\t ndri̱mánúhé  ri̱  telebisión\n",
      "predecido:\n",
      "\t [['prt', 'obl', 'gen']]\n",
      "real:\n",
      "\t [['v', 'det', 'obl']]\n",
      "Prueba el modelo, presiona RET tecla para continuar, q para salir: \n"
     ]
    },
    {
     "name": "stdin",
     "output_type": "stream",
     "text": [
      " \n"
     ]
    },
    {
     "name": "stdout",
     "output_type": "stream",
     "text": [
      "oración:\n",
      "\t gambu̱nk'i̱  ya  xo  mitsí  ni̱  ri̱  bähtsí\n",
      "predecido:\n",
      "\t [['prt', 'obl', 'gen', 'obl', 'gen', 'obl', 'gen']]\n",
      "real:\n",
      "\t [['v', 'cnj', 'cnj', 'v', 'dem', 'det', 'obl']]\n",
      "Prueba el modelo, presiona RET tecla para continuar, q para salir: \n"
     ]
    }
   ],
   "source": [
    "import random\n",
    "user_input = \"\"\n",
    "while True:\n",
    "    print(f\"Prueba el modelo, presiona RET tecla para continuar, q para salir: {user_input}\")\n",
    "    user_input = input(\">>\")\n",
    "    \n",
    "    if user_input == 'q':\n",
    "        break  # Exit the loop if 'q' is entered\n",
    "    \n",
    "    \n",
    "    # Continue executing code here\n",
    "    \n",
    "    n = random.randint(1,len(cuerpo))\n",
    "\n",
    "    cadena = [tupla[0] for tupla in cuerpo[n]]\n",
    "    real = [tupla[1] for tupla in cuerpo[n]]\n",
    "\n",
    "    to_pred = [[pos for _, pos in cuerpo[n]]]\n",
    "    pred = crf.predict(to_pred)\n",
    "    print(\"oración:\")\n",
    "    print(\"\\t\",\"  \".join(word for word in cadena))\n",
    "    print(\"predecido:\")\n",
    "    print(\"\\t\",pred)\n",
    "    print(\"real:\")\n",
    "    print(\"\\t\",[real])\n",
    "    \n",
    "# Code outside the loop (after 'q' is entered) will continue executing\n",
    "print(\"Done!\")"
   ]
  },
  {
   "cell_type": "code",
   "execution_count": null,
   "id": "6fa15b3e-39c5-41b4-aec0-63469628fab9",
   "metadata": {},
   "outputs": [],
   "source": []
  },
  {
   "cell_type": "code",
   "execution_count": null,
   "id": "aeead65d-cec7-4383-aa56-cccfd9706231",
   "metadata": {},
   "outputs": [],
   "source": []
  }
 ],
 "metadata": {
  "kernelspec": {
   "display_name": "Python 3 (ipykernel)",
   "language": "python",
   "name": "python3"
  },
  "language_info": {
   "codemirror_mode": {
    "name": "ipython",
    "version": 3
   },
   "file_extension": ".py",
   "mimetype": "text/x-python",
   "name": "python",
   "nbconvert_exporter": "python",
   "pygments_lexer": "ipython3",
   "version": "3.8.10"
  }
 },
 "nbformat": 4,
 "nbformat_minor": 5
}
