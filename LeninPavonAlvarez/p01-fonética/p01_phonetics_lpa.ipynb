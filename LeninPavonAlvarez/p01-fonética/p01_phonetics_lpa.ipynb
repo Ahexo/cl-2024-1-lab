{
  "cells": [
    {
      "cell_type": "markdown",
      "id": "a1d17ddb-81e1-492f-a0a5-5a55d94f7e4c",
      "metadata": {
        "id": "a1d17ddb-81e1-492f-a0a5-5a55d94f7e4c"
      },
      "source": [
        "# 1. Fonología"
      ]
    },
    {
      "cell_type": "markdown",
      "id": "7568912a-5945-46c0-aeb4-6106e8f36635",
      "metadata": {
        "id": "7568912a-5945-46c0-aeb4-6106e8f36635"
      },
      "source": [
        "## Objetivo"
      ]
    },
    {
      "cell_type": "markdown",
      "id": "1db19ad2-dbd9-4a56-843a-1133e440641e",
      "metadata": {
        "id": "1db19ad2-dbd9-4a56-843a-1133e440641e"
      },
      "source": [
        "- Læs alumnæs entenderán que es la fonología y un alfabeto fonético\n",
        "- Manipularan datasets disponibles en repositorios de Github\n",
        "- Guardaran estos datasets en una estructura de datos\n",
        "- Recuperarán información reelevante de esta estructura para resolver una tarea específica"
      ]
    },
    {
      "cell_type": "markdown",
      "id": "54563b4d-3c1a-4a23-9716-73554e263fb0",
      "metadata": {
        "id": "54563b4d-3c1a-4a23-9716-73554e263fb0"
      },
      "source": [
        "## ¿Qué es la fonología?"
      ]
    },
    {
      "cell_type": "markdown",
      "id": "3fb13d94-e6af-44dc-aa94-608b99feafff",
      "metadata": {
        "id": "3fb13d94-e6af-44dc-aa94-608b99feafff"
      },
      "source": [
        "- La fonología es una rama de la Lingüística que estudia como los humanos producimos y percibimos el lenguaje\n",
        "    - Producción: La forma en que producimos el lenguaje\n",
        "    - Percepción: La forma en que interpretamos el lenguaje"
      ]
    },
    {
      "cell_type": "code",
      "execution_count": null,
      "id": "e529deca-fb69-4072-91ed-7a5063443d62",
      "metadata": {
        "tags": [],
        "id": "e529deca-fb69-4072-91ed-7a5063443d62",
        "outputId": "99786df6-a97f-49d7-9ea7-b8eeb6c65f54",
        "colab": {
          "base_uri": "https://localhost:8080/",
          "height": 438
        }
      },
      "outputs": [
        {
          "output_type": "display_data",
          "data": {
            "text/plain": [
              "<IPython.core.display.HTML object>"
            ],
            "text/html": [
              "<iframe width=\"760\" height=\"415\" src=\"https://www.youtube.com/embed/DcNMCB-Gsn8?controls=1\"></iframe>\n"
            ]
          },
          "metadata": {}
        }
      ],
      "source": [
        "%%HTML\n",
        "<iframe width=\"760\" height=\"415\" src=\"https://www.youtube.com/embed/DcNMCB-Gsn8?controls=1\"></iframe>"
      ]
    },
    {
      "cell_type": "markdown",
      "id": "ae09ec8d-b9e9-4e66-9878-63c514fb57f0",
      "metadata": {
        "id": "ae09ec8d-b9e9-4e66-9878-63c514fb57f0"
      },
      "source": [
        "#### Formas comunes\n",
        "\n",
        "- Oral-Aural\n",
        "    - Producción: La boca\n",
        "    - Percepción: Oidos\n",
        "- Manual-visual\n",
        "    - Producción: Manual usando las manos\n",
        "    - Percepción: Visual\n",
        "- Manual-Manual\n",
        "    - Producción: Manual usando las manos\n",
        "    - Percepción: Manual usando las manos"
      ]
    },
    {
      "cell_type": "markdown",
      "id": "029a8e17-03ed-417c-b2f3-512fd1ee5fd9",
      "metadata": {
        "id": "029a8e17-03ed-417c-b2f3-512fd1ee5fd9"
      },
      "source": [
        "#### International Phonetic Alphabet (IPA)\n",
        "\n",
        "- Las lenguas naturales tienen muchos sonidos diferentes por lo que necesitamos una forma de describirlos independientemente de las lenguas\n",
        "- Por ejemplo: Los sonidos del habla se determinan por los movimientos de la boca necesarios para producirlos\n",
        "- Las dos grandes categorías: Consonantes y Vocales\n",
        "- IPA es una representación escrita de los [sonidos](https://www.ipachart.com/) del habla"
      ]
    },
    {
      "cell_type": "markdown",
      "source": [
        "### Dataset: IPA-dict de open-dict\n",
        "\n",
        "- Diccionario de palabras para varios idiomas con su representación fonética\n",
        "- Representación simple, una palabra por renglon con el formato:\n",
        "\n",
        "```\n",
        "[PALABRA][TAB][IPA]\n",
        "\n",
        "Ejemplos\n",
        "mariguana\t/maɾiɣwana/\n",
        "zyuganov's   /ˈzjuɡɑnɑvz/, /ˈzuɡɑnɑvz/\n",
        "```\n",
        "\n",
        "- [Github repo](https://github.com/open-dict-data/ipa-dict)\n",
        "  - [ISO language codes](https://en.wikipedia.org/wiki/List_of_ISO_639-1_codes)\n",
        "  - URL: `https://raw.githubusercontent.com/open-dict-data/ipa-dict/master/data/<iso-lang>`"
      ],
      "metadata": {
        "id": "COzTRH3QXdWl"
      },
      "id": "COzTRH3QXdWl"
    },
    {
      "cell_type": "markdown",
      "source": [
        "### Encontrando palabras que tengan terminación similar"
      ],
      "metadata": {
        "id": "8TLGghJWFbIZ"
      },
      "id": "8TLGghJWFbIZ"
    },
    {
      "cell_type": "code",
      "source": [
        "from collections import defaultdict\n",
        "\n",
        "#sentence = \"There once was a cat that ate a rat and after that sat on a yellow mat\"\n",
        "#sentence = \"the cat sat on the mat and looked at the rat.\"\n",
        "#sentence = \"If you drop the ball it will fall on the doll\"\n",
        "sentence = \"cuando juego con fuego siento como brilla la orilla de mi corazón\"\n",
        "\n",
        "#lang = \"en_US\"\n",
        "lang = \"es_MX\"\n",
        "words = sentence.split(\" \")\n",
        "\n",
        "# Get words and IPA transciptions map\n",
        "word_ipa_map = {}\n",
        "for word in words:\n",
        "    ipa_transcriptions = get_ipa_transcriptions(word=word, dataset=dataset.get(lang))\n",
        "    ipa_transcriptions = [_.strip(\"/\") for _ in ipa_transcriptions]\n",
        "    word_ipa_map.update({word: ipa_transcriptions })\n",
        "\n",
        "rhyming_patterns = defaultdict(list)\n",
        "for word, ipa_list in word_ipa_map.items():\n",
        "    for ipa in ipa_list:\n",
        "        ipa_pattern = ipa[-2:]\n",
        "        rhyming_patterns[ipa_pattern].append(word)\n",
        "\n",
        "for pattern, words in rhyming_patterns.items():\n",
        "    if len(set(words)) > 1:\n",
        "        print(f\"{pattern}:: {', '.join(words)}\")"
      ],
      "metadata": {
        "colab": {
          "base_uri": "https://localhost:8080/"
        },
        "id": "B1JaTm-lUy3c",
        "outputId": "becc120f-14aa-450f-cca3-0cb6beb6f430"
      },
      "id": "B1JaTm-lUy3c",
      "execution_count": null,
      "outputs": [
        {
          "output_type": "stream",
          "name": "stdout",
          "text": [
            "Palabras que terminan con pronunciacion similar\n",
            "ɣo:: juego, fuego\n",
            "on:: con, corazón\n",
            "ʎa:: brilla, orilla\n"
          ]
        }
      ]
    },
    {
      "cell_type": "markdown",
      "source": [
        "### Práctica 1: Buscador equivalencias fonéticas en un corpus\n",
        "\n",
        "**Fecha de entrega: Domingo 27 de Agosto 2023 11:59pm**\n",
        "\n",
        "- Agregar un nuevo modo de búsqueda donde se extienda el comportamiento básico del buscador para ahora buscar por frases. Ejemplo:\n",
        "\n",
        "```\n",
        "[es_MX]>>> Hola que hace\n",
        " /ola/ /ke/ /ase/\n",
        "```\n",
        "\n",
        "- Optimizar el código para agregar los datasets en un \"cache\" a demanda y no descargar todo el corpus de un trancazo. Esto quiere decir que al inicio de la ejecución no habrá ningun dataset descargado. Mientras la usuaria vaya seleccionado idiomas los irá agregando a un cache local (puede ser persistente o en memoria). Ejemplo:\n",
        "\n",
        "```\n",
        "lang>> es_MX\n",
        "Corpus no encontrado. Descargando ...\n",
        "[es_MX]>>\n",
        "...\n",
        "lang>> en_US\n",
        "Corpus no encontrado. Descargando ...\n",
        "[en_US]>>\n",
        "...\n",
        "lang>> es_MX\n",
        "[es_MX]>>\n",
        "...\n",
        "```\n",
        "\n",
        "#### EXTRA\n",
        "\n",
        "- Mejorar la solución al escenario cuando no se encuentran las palabras en el dataset mostrando palabras similares. Ejemplo:\n",
        "\n",
        "```\n",
        "[es_MX]>> pero\n",
        "No se encontro <<pero>> en el dataset. Palabras aproximadas:\n",
        "perro /pero/\n",
        "perno /peɾno/\n",
        "[es_MX]>>\n",
        "```"
      ],
      "metadata": {
        "id": "bFfv_5FnANgs"
      },
      "id": "bFfv_5FnANgs"
    },
    {
      "cell_type": "code",
      "source": [
        "# Funciones necesarias CÓDIGO DE LA AYUDANTÍA\n",
        "import requests as r\n",
        "from collections import defaultdict\n",
        "# Biblioteca de Códigos ISO de lenguajes\n",
        "lang_codes = {\n",
        "  \"ar\":    \"Arabic (Modern Standard)\",\n",
        "  \"de\":    \"German\",\n",
        "  \"en_UK\": \"English (Received Pronunciation)\",\n",
        "  \"en_US\": \"English (General American)\",\n",
        "  \"eo\":    \"Esperanto\",\n",
        "  \"es_ES\": \"Spanish (Spain)\",\n",
        "  \"es_MX\": \"Spanish (Mexico)\",\n",
        "  \"fa\":    \"Persian\",\n",
        "  \"fi\":     \"Finnish\",\n",
        "  \"fr_FR\": \"French (France)\",\n",
        "  \"fr_QC\": \"French (Québec)\",\n",
        "  \"is\":    \"Icelandic\",\n",
        "  \"ja\":    \"Japanese\",\n",
        "  \"jam\":   \"Jamaican Creole\",\n",
        "  \"km\":    \"Khmer\",\n",
        "  \"ko\":    \"Korean\",\n",
        "  \"ma\":    \"Malay (Malaysian and Indonesian)\",\n",
        "  \"nb\":    \"Norwegian Bokmål\",\n",
        "  \"nl\":    \"Dutch\",\n",
        "  \"or\":    \"Odia\",\n",
        "  \"ro\":    \"Romanian\",\n",
        "  \"sv\":    \"Swedish\",\n",
        "  \"sw\":    \"Swahili\",\n",
        "  \"tts\":   \"Isan\",\n",
        "  \"vi_C\":  \"Vietnamese (Central)\",\n",
        "  \"vi_N\":  \"Vietnamese (Northern)\",\n",
        "  \"vi_S\":  \"Vietnamese (Southern)\",\n",
        "  \"yue\":   \"Cantonese\",\n",
        "  \"zh\":    \"Mandarin\"\n",
        "}\n",
        "iso_lang_codes = list(lang_codes.keys())\n",
        "# Petición a ipa dict\n",
        "def get_ipa_dict(iso_lang: str) -> dict:\n",
        "    \"\"\"Get ipa-dict file from Github\n",
        "\n",
        "    Parameters:\n",
        "    -----------\n",
        "    iso_lang:\n",
        "        Language as iso code\n",
        "\n",
        "    Results:\n",
        "    --------\n",
        "    dict:\n",
        "        Dictionary with words as keys and phonetic representation\n",
        "        as values for a given lang code\n",
        "    \"\"\"\n",
        "    response = r.get(f\"https://raw.githubusercontent.com/open-dict-data/ipa-dict/master/data/{iso_lang}.txt\")\n",
        "    raw_data = response.text.split(\"\\n\")\n",
        "    return response_to_dict(raw_data[:-1])\n",
        "# Conversión a datos semiestructurados\n",
        "def response_to_dict(ipa_list: list) -> dict:\n",
        "    \"\"\"Parse to dict the list of word-IPA\n",
        "\n",
        "    Each element of text has the format:\n",
        "    [WORD][TAB][IPA]\n",
        "\n",
        "    Parameters\n",
        "    ----------\n",
        "    ipa_list: list\n",
        "        List with each row of ipa-dict raw dataset file\n",
        "\n",
        "    Returns\n",
        "    -------\n",
        "    dict:\n",
        "        A dictionary with the word as key and the phonetic\n",
        "        representation as value\n",
        "    \"\"\"\n",
        "    result = {}\n",
        "    for item in ipa_list:\n",
        "        item_list = item.split(\"\\t\")\n",
        "        result[item_list[0]] = item_list[1]\n",
        "    return result\n",
        "# Palabra a IPA\n",
        "def get_ipa_transcriptions(word: str, dataset: dict) -> list[str]:\n",
        "    \"\"\"Search for word in a given dataset of IPA phonetics\n",
        "\n",
        "    Given a word this function return the IPA transcriptions\n",
        "\n",
        "    Parameters:\n",
        "    -----------\n",
        "    word: str\n",
        "        A word to search in the dataset\n",
        "    dataset: dict\n",
        "        A dataset for a given language code\n",
        "    Returns\n",
        "    -------\n",
        "    \"\"\"\n",
        "    return dataset.get(word.lower(), \"NOT FOUND\").split(\", \")"
      ],
      "metadata": {
        "id": "h2dQ5p5YuaTM"
      },
      "id": "h2dQ5p5YuaTM",
      "execution_count": 35,
      "outputs": []
    },
    {
      "cell_type": "code",
      "source": [
        "# Parte 1:\n",
        "dataset = {}\n",
        "def get_dataset(lang_code: str) -> bool:\n",
        "    \"\"\"Download corpora from ipa-dict github\n",
        "\n",
        "    Given a list of iso lang codes download available datasets.\n",
        "\n",
        "    Returns\n",
        "    -------\n",
        "    dict\n",
        "        Lang codes as keys and dictionary with words-transcriptions\n",
        "        as values\n",
        "    \"\"\"\n",
        "    if lang_code in dataset:\n",
        "        return True\n",
        "    if lang_code not in lang_codes:\n",
        "        return False\n",
        "    print(f\"{lang_codes[lang_code]} no encontrado, iniciando descarga\")\n",
        "    dataset[lang_code] = get_ipa_dict(lang_code)\n",
        "    return True\n",
        "def ask_lang() -> str:\n",
        "    \"\"\"Ask user an input language\n",
        "\n",
        "    Given an ISO code of a language it starts the CLI. In case the\n",
        "    dataset does not include the language it downloads it. In the\n",
        "    abscense of a response, it stops the CLI\n",
        "\n",
        "    Returns\n",
        "    ----------\n",
        "    bool\n",
        "        Whether or not should the program continue\n",
        "    \"\"\"\n",
        "    # Valida la existencia del lenguaje\n",
        "    lang = input(\"¿Qué lenguaje quieres aprender hoy?\\nlang>> \")\n",
        "    if lang not in lang_codes:\n",
        "      print(\"El sistema no incluye a este lenguaje, *crashea*\")\n",
        "      return\n",
        "    # Verifica el caché\n",
        "    print(f\"Seleccionó {lang_codes[lang]}\")\n",
        "    if get_dataset(lang):\n",
        "      print(f\"{lang_codes[lang]} está listo para usarse\")\n",
        "    return lang"
      ],
      "metadata": {
        "id": "3S8C53Yqudj0"
      },
      "id": "3S8C53Yqudj0",
      "execution_count": 42,
      "outputs": []
    },
    {
      "cell_type": "code",
      "source": [
        "# Parte dos\n",
        "def ask_query(lang, dataset) -> str:\n",
        "  query = input(f\".  [{lang}]word>> \")\n",
        "  if not query:\n",
        "    return\n",
        "  return sentence_parser(query, dataset)\n",
        "def sentence_parser(query: str, dataset: dict) -> str:\n",
        "    \"\"\"Get transcriptions of all the words of a sentence\n",
        "\n",
        "    Returns IPA transcriptions of the dataset for each word\n",
        "    in a sentence, or a Not Found if necessary\n",
        "\n",
        "    Returns\n",
        "    ----------\n",
        "    str\n",
        "        IPA transcription of the sentence\n",
        "    \"\"\"\n",
        "    words = query.split(' ')\n",
        "    result = \"\"\n",
        "    for w in words:\n",
        "      transcript = get_ipa_transcriptions(w, dataset)\n",
        "      result += w + \"\\n| \" + \"\\n| \".join(transcript) + \"\\n\"\n",
        "    return result"
      ],
      "metadata": {
        "id": "251broxVuhAe"
      },
      "id": "251broxVuhAe",
      "execution_count": 43,
      "outputs": []
    },
    {
      "cell_type": "code",
      "source": [
        "# Extra\n",
        "# TODO: Encontrar la distancia entre dos palabras y mostrar las que caen\n",
        "#       bajo cierto umbral"
      ],
      "metadata": {
        "id": "x4GbhDBQuiBE"
      },
      "id": "x4GbhDBQuiBE",
      "execution_count": null,
      "outputs": []
    },
    {
      "cell_type": "code",
      "source": [
        "# CLI\n",
        "print(f\"Xochi-learning: Aprende la pronunciación de {len(lang_codes)} idiomas diferentes Owo\")\n",
        "print(f\"Idiomas disponibles: {(iso_lang_codes)}\")\n",
        "lang = ask_lang()\n",
        "while lang:\n",
        "  current_dataset = dataset[lang]\n",
        "  query = 'placeholder'\n",
        "  while query:\n",
        "    query = ask_query(lang, current_dataset)\n",
        "    print(query) if query else print(\"Error al capturar la oración\")\n",
        "  lang = ask_lang()"
      ],
      "metadata": {
        "colab": {
          "base_uri": "https://localhost:8080/"
        },
        "id": "YrYLFaFxui9o",
        "outputId": "0f38dd65-40d7-49ed-8fe8-9b3aa84480ed"
      },
      "id": "YrYLFaFxui9o",
      "execution_count": 44,
      "outputs": [
        {
          "output_type": "stream",
          "name": "stdout",
          "text": [
            "Xochi-learning: Aprende la pronunciación de 29 idiomas diferentes Owo\n",
            "Idiomas disponibles: ['ar', 'de', 'en_UK', 'en_US', 'eo', 'es_ES', 'es_MX', 'fa', 'fi', 'fr_FR', 'fr_QC', 'is', 'ja', 'jam', 'km', 'ko', 'ma', 'nb', 'nl', 'or', 'ro', 'sv', 'sw', 'tts', 'vi_C', 'vi_N', 'vi_S', 'yue', 'zh']\n",
            "¿Qué lenguaje quieres aprender hoy?\n",
            "lang>> es_ES\n",
            "Seleccionó Spanish (Spain)\n",
            "Spanish (Spain) no encontrado, iniciando descarga\n",
            "Spanish (Spain) está listo para usarse\n",
            ".  [es_ES]word>> mi amor por ti no conoce límites\n",
            "mi\n",
            "| /mi/\n",
            "amor\n",
            "| /amoɾ/\n",
            "por\n",
            "| /poɾ/\n",
            "ti\n",
            "| /ti/\n",
            "no\n",
            "| /no/\n",
            "conoce\n",
            "| /konoθe/\n",
            "límites\n",
            "| /ˈlimites/\n",
            "\n",
            ".  [es_ES]word>> \n",
            "Error al capturar la oración\n",
            "¿Qué lenguaje quieres aprender hoy?\n",
            "lang>> es_ES\n",
            "Seleccionó Spanish (Spain)\n",
            "Spanish (Spain) está listo para usarse\n",
            ".  [es_ES]word>> \n",
            "Error al capturar la oración\n",
            "¿Qué lenguaje quieres aprender hoy?\n",
            "lang>> en_UK\n",
            "Seleccionó English (Received Pronunciation)\n",
            "English (Received Pronunciation) no encontrado, iniciando descarga\n",
            "English (Received Pronunciation) está listo para usarse\n",
            ".  [en_UK]word>> green colorless clouds sleep furiously\n",
            "green\n",
            "| /ɡɹˈiːn/\n",
            "colorless\n",
            "| NOT FOUND\n",
            "clouds\n",
            "| /klˈa‍ʊdz/\n",
            "sleep\n",
            "| /slˈiːp/\n",
            "furiously\n",
            "| /fjˈɔːɹɪəsli/\n",
            "\n",
            ".  [en_UK]word>> \n",
            "Error al capturar la oración\n",
            "¿Qué lenguaje quieres aprender hoy?\n",
            "lang>> en_UK\n",
            "Seleccionó English (Received Pronunciation)\n",
            "English (Received Pronunciation) está listo para usarse\n",
            ".  [en_UK]word>> \n",
            "Error al capturar la oración\n",
            "¿Qué lenguaje quieres aprender hoy?\n",
            "lang>> \n",
            "El sistema no incluye a este lenguaje, *crashea*\n"
          ]
        }
      ]
    }
  ],
  "metadata": {
    "kernelspec": {
      "display_name": "Python 3 (ipykernel)",
      "language": "python",
      "name": "python3"
    },
    "language_info": {
      "codemirror_mode": {
        "name": "ipython",
        "version": 3
      },
      "file_extension": ".py",
      "mimetype": "text/x-python",
      "name": "python",
      "nbconvert_exporter": "python",
      "pygments_lexer": "ipython3",
      "version": "3.11.3"
    },
    "colab": {
      "provenance": []
    }
  },
  "nbformat": 4,
  "nbformat_minor": 5
}