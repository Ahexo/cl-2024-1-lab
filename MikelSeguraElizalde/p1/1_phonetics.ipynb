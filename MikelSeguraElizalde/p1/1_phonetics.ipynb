{
  "cells": [
    {
      "cell_type": "markdown",
      "id": "a1d17ddb-81e1-492f-a0a5-5a55d94f7e4c",
      "metadata": {
        "id": "a1d17ddb-81e1-492f-a0a5-5a55d94f7e4c"
      },
      "source": [
        "# 1. Fonología"
      ]
    },
    {
      "cell_type": "markdown",
      "id": "7568912a-5945-46c0-aeb4-6106e8f36635",
      "metadata": {
        "id": "7568912a-5945-46c0-aeb4-6106e8f36635"
      },
      "source": [
        "## Objetivo"
      ]
    },
    {
      "cell_type": "markdown",
      "id": "1db19ad2-dbd9-4a56-843a-1133e440641e",
      "metadata": {
        "id": "1db19ad2-dbd9-4a56-843a-1133e440641e"
      },
      "source": [
        "- Læs alumnæs entenderán que es la fonología y un alfabeto fonético\n",
        "- Manipularan datasets disponibles en repositorios de Github\n",
        "- Guardaran estos datasets en una estructura de datos\n",
        "- Recuperarán información reelevante de esta estructura para resolver una tarea específica"
      ]
    },
    {
      "cell_type": "markdown",
      "id": "54563b4d-3c1a-4a23-9716-73554e263fb0",
      "metadata": {
        "id": "54563b4d-3c1a-4a23-9716-73554e263fb0"
      },
      "source": [
        "## ¿Qué es la fonología?"
      ]
    },
    {
      "cell_type": "markdown",
      "id": "3fb13d94-e6af-44dc-aa94-608b99feafff",
      "metadata": {
        "id": "3fb13d94-e6af-44dc-aa94-608b99feafff"
      },
      "source": [
        "- La fonología es una rama de la Lingüística que estudia como los humanos producimos y percibimos el lenguaje\n",
        "    - Producción: La forma en que producimos el lenguaje\n",
        "    - Percepción: La forma en que interpretamos el lenguaje"
      ]
    },
    {
      "cell_type": "code",
      "execution_count": null,
      "id": "e529deca-fb69-4072-91ed-7a5063443d62",
      "metadata": {
        "tags": [],
        "id": "e529deca-fb69-4072-91ed-7a5063443d62",
        "outputId": "99786df6-a97f-49d7-9ea7-b8eeb6c65f54",
        "colab": {
          "base_uri": "https://localhost:8080/",
          "height": 438
        }
      },
      "outputs": [
        {
          "output_type": "display_data",
          "data": {
            "text/plain": [
              "<IPython.core.display.HTML object>"
            ],
            "text/html": [
              "<iframe width=\"760\" height=\"415\" src=\"https://www.youtube.com/embed/DcNMCB-Gsn8?controls=1\"></iframe>\n"
            ]
          },
          "metadata": {}
        }
      ],
      "source": [
        "%%HTML\n",
        "<iframe width=\"760\" height=\"415\" src=\"https://www.youtube.com/embed/DcNMCB-Gsn8?controls=1\"></iframe>"
      ]
    },
    {
      "cell_type": "markdown",
      "id": "ae09ec8d-b9e9-4e66-9878-63c514fb57f0",
      "metadata": {
        "id": "ae09ec8d-b9e9-4e66-9878-63c514fb57f0"
      },
      "source": [
        "#### Formas comunes\n",
        "\n",
        "- Oral-Aural\n",
        "    - Producción: La boca\n",
        "    - Percepción: Oidos\n",
        "- Manual-visual\n",
        "    - Producción: Manual usando las manos\n",
        "    - Percepción: Visual\n",
        "- Manual-Manual\n",
        "    - Producción: Manual usando las manos\n",
        "    - Percepción: Manual usando las manos"
      ]
    },
    {
      "cell_type": "markdown",
      "id": "029a8e17-03ed-417c-b2f3-512fd1ee5fd9",
      "metadata": {
        "id": "029a8e17-03ed-417c-b2f3-512fd1ee5fd9"
      },
      "source": [
        "#### International Phonetic Alphabet (IPA)\n",
        "\n",
        "- Las lenguas naturales tienen muchos sonidos diferentes por lo que necesitamos una forma de describirlos independientemente de las lenguas\n",
        "- Por ejemplo: Los sonidos del habla se determinan por los movimientos de la boca necesarios para producirlos\n",
        "- Las dos grandes categorías: Consonantes y Vocales\n",
        "- IPA es una representación escrita de los [sonidos](https://www.ipachart.com/) del habla"
      ]
    },
    {
      "cell_type": "markdown",
      "source": [
        "### Dataset: IPA-dict de open-dict\n",
        "\n",
        "- Diccionario de palabras para varios idiomas con su representación fonética\n",
        "- Representación simple, una palabra por renglon con el formato:\n",
        "\n",
        "```\n",
        "[PALABRA][TAB][IPA]\n",
        "\n",
        "Ejemplos\n",
        "mariguana\t/maɾiɣwana/\n",
        "zyuganov's   /ˈzjuɡɑnɑvz/, /ˈzuɡɑnɑvz/\n",
        "```\n",
        "\n",
        "- [Github repo](https://github.com/open-dict-data/ipa-dict)\n",
        "  - [ISO language codes](https://en.wikipedia.org/wiki/List_of_ISO_639-1_codes)\n",
        "  - URL: `https://raw.githubusercontent.com/open-dict-data/ipa-dict/master/data/<iso-lang>`"
      ],
      "metadata": {
        "id": "COzTRH3QXdWl"
      },
      "id": "COzTRH3QXdWl"
    },
    {
      "cell_type": "markdown",
      "source": [
        "### Explorando el corpus"
      ],
      "metadata": {
        "id": "c-Q91_zR859L"
      },
      "id": "c-Q91_zR859L"
    },
    {
      "cell_type": "code",
      "source": [
        "import requests as r\n",
        "\n",
        "response = r.get(\"https://raw.githubusercontent.com/open-dict-data/ipa-dict/master/data/en_US.txt\")\n",
        "#response.text\n",
        "response.text[500:1000]"
      ],
      "metadata": {
        "colab": {
          "base_uri": "https://localhost:8080/",
          "height": 87
        },
        "id": "dfCkH58988vq",
        "outputId": "45445a15-7363-4c2c-beda-44831c9e864f"
      },
      "id": "dfCkH58988vq",
      "execution_count": 1,
      "outputs": [
        {
          "output_type": "execute_result",
          "data": {
            "text/plain": [
              "\"/ˌɑˈhus/\\naaron\\t/ˈɛɹən/\\naaron's\\t/ˈɛɹənz/\\naarons\\t/ˈɛɹənz/\\naaronson\\t/ˈɑɹənsən/, /ˈɛɹənsən/\\naaronson's\\t/ˈɑɹənsənz/, /ˈɛɹənsənz/\\naarti\\t/ˈɑɹˌti/\\naase\\t/ˈɑs/\\naasen\\t/ˈɑsən/\\nab\\t/ˈæb/, /ˈeɪˈbi/\\naba\\t/ˌeɪˌbiˈeɪ/\\nababa\\t/ˈɑbəbə/, /əˈbɑbə/\\nabacha\\t/ˈæbəkə/\\naback\\t/əˈbæk/\\nabaco\\t/ˈæbəˌkoʊ/\\nabacus\\t/ˈæbəkəs/\\nabad\\t/əˈbɑd/\\nabadaka\\t/əˈbædəkə/\\nabadi\\t/əˈbædi/\\nabadie\\t/əˈbædi/\\nabair\\t/əˈbɛɹ/\\nabalkin\\t/əˈbɑɫkɪn/\\nabalone\\t/ˌæbəˈɫoʊni/\\nabalones\\t/ˌæbəˈɫoʊniz/\\nabalos\\t/ɑˈbɑɫoʊz/\\nabandon\\t/əˈbændən/\\nabandoned\\t/əˈbændənd/\\nabandoning\\t/ə\""
            ],
            "application/vnd.google.colaboratory.intrinsic+json": {
              "type": "string"
            }
          },
          "metadata": {},
          "execution_count": 1
        }
      ]
    },
    {
      "cell_type": "code",
      "source": [
        "from pprint import pp\n",
        "pp(response.text[500:1000])"
      ],
      "metadata": {
        "colab": {
          "base_uri": "https://localhost:8080/"
        },
        "id": "wTGoSBgXmlos",
        "outputId": "cf62efb5-941d-4717-8e24-bcf7d5c7bc8f"
      },
      "id": "wTGoSBgXmlos",
      "execution_count": 2,
      "outputs": [
        {
          "output_type": "stream",
          "name": "stdout",
          "text": [
            "('/ˌɑˈhus/\\n'\n",
            " 'aaron\\t/ˈɛɹən/\\n'\n",
            " \"aaron's\\t/ˈɛɹənz/\\n\"\n",
            " 'aarons\\t/ˈɛɹənz/\\n'\n",
            " 'aaronson\\t/ˈɑɹənsən/, /ˈɛɹənsən/\\n'\n",
            " \"aaronson's\\t/ˈɑɹənsənz/, /ˈɛɹənsənz/\\n\"\n",
            " 'aarti\\t/ˈɑɹˌti/\\n'\n",
            " 'aase\\t/ˈɑs/\\n'\n",
            " 'aasen\\t/ˈɑsən/\\n'\n",
            " 'ab\\t/ˈæb/, /ˈeɪˈbi/\\n'\n",
            " 'aba\\t/ˌeɪˌbiˈeɪ/\\n'\n",
            " 'ababa\\t/ˈɑbəbə/, /əˈbɑbə/\\n'\n",
            " 'abacha\\t/ˈæbəkə/\\n'\n",
            " 'aback\\t/əˈbæk/\\n'\n",
            " 'abaco\\t/ˈæbəˌkoʊ/\\n'\n",
            " 'abacus\\t/ˈæbəkəs/\\n'\n",
            " 'abad\\t/əˈbɑd/\\n'\n",
            " 'abadaka\\t/əˈbædəkə/\\n'\n",
            " 'abadi\\t/əˈbædi/\\n'\n",
            " 'abadie\\t/əˈbædi/\\n'\n",
            " 'abair\\t/əˈbɛɹ/\\n'\n",
            " 'abalkin\\t/əˈbɑɫkɪn/\\n'\n",
            " 'abalone\\t/ˌæbəˈɫoʊni/\\n'\n",
            " 'abalones\\t/ˌæbəˈɫoʊniz/\\n'\n",
            " 'abalos\\t/ɑˈbɑɫoʊz/\\n'\n",
            " 'abandon\\t/əˈbændən/\\n'\n",
            " 'abandoned\\t/əˈbændənd/\\n'\n",
            " 'abandoning\\t/ə')\n"
          ]
        }
      ]
    },
    {
      "cell_type": "code",
      "source": [
        "words = response.text.split(\"\\n\")\n",
        "print(words[:10])\n",
        "print(words[100])\n",
        "pp(words[-1])\n",
        "pp(words[-2])\n",
        "print(words[-3].split('\\t'))"
      ],
      "metadata": {
        "colab": {
          "base_uri": "https://localhost:8080/"
        },
        "id": "4ukj7OZRR02D",
        "outputId": "bfdaeca2-2e6e-44e7-faa0-305e86a84e93"
      },
      "id": "4ukj7OZRR02D",
      "execution_count": 3,
      "outputs": [
        {
          "output_type": "stream",
          "name": "stdout",
          "text": [
            "[\"'bout\\t/ˈbaʊt/\", \"'cause\\t/kəz/\", \"'course\\t/ˈkɔɹs/\", \"'cuse\\t/ˈkjuz/\", \"'em\\t/əm/\", \"'frisco\\t/ˈfɹɪskoʊ/\", \"'gain\\t/ˈɡɛn/\", \"'kay\\t/ˈkeɪ/\", \"'m\\t/əm/\", \"'n\\t/ən/\"]\n",
            "abbreviate\t/əˈbɹiviˌeɪt/\n",
            "''\n",
            "'zywicki\\t/zɪˈwɪki/'\n",
            "[\"zyuganov's\", '/ˈzjuɡɑnɑvz/, /ˈzuɡɑnɑvz/']\n"
          ]
        }
      ]
    },
    {
      "cell_type": "markdown",
      "source": [
        "### Obteniendo el corpus"
      ],
      "metadata": {
        "id": "cJMkPF06jJJp"
      },
      "id": "cJMkPF06jJJp"
    },
    {
      "cell_type": "code",
      "source": [
        "lang_codes = {\n",
        "  \"ar\": \"Arabic (Modern Standard)\",\n",
        "  \"de\": \"German\",\n",
        "  \"en_UK\": \"English (Received Pronunciation)\",\n",
        "  \"en_US\": \"English (General American)\",\n",
        "  \"eo\": \"Esperanto\",\n",
        "  \"es_ES\": \"Spanish (Spain)\",\n",
        "  \"es_MX\": \"Spanish (Mexico)\",\n",
        "  \"fa\": \"Persian\",\n",
        "  \"fi\": \"Finnish\",\n",
        "  \"fr_FR\": \"French (France)\",\n",
        "  \"fr_QC\": \"French (Québec)\",\n",
        "  \"is\": \"Icelandic\",\n",
        "  \"ja\": \"Japanese\",\n",
        "  \"jam\": \"Jamaican Creole\",\n",
        "  \"km\": \"Khmer\",\n",
        "  \"ko\": \"Korean\",\n",
        "  \"ma\": \"Malay (Malaysian and Indonesian)\",\n",
        "  \"nb\": \"Norwegian Bokmål\",\n",
        "  \"nl\": \"Dutch\",\n",
        "  \"or\": \"Odia\",\n",
        "  \"ro\": \"Romanian\",\n",
        "  \"sv\": \"Swedish\",\n",
        "  \"sw\": \"Swahili\",\n",
        "  \"tts\": \"Isan\",\n",
        "  \"vi_C\": \"Vietnamese (Central)\",\n",
        "  \"vi_N\": \"Vietnamese (Northern)\",\n",
        "  \"vi_S\": \"Vietnamese (Southern)\",\n",
        "  \"yue\": \"Cantonese\",\n",
        "  \"zh\": \"Mandarin\"\n",
        "}\n",
        "iso_lang_codes = list(lang_codes.keys())"
      ],
      "metadata": {
        "id": "YSRb9cx5jM8d"
      },
      "id": "YSRb9cx5jM8d",
      "execution_count": 4,
      "outputs": []
    },
    {
      "cell_type": "code",
      "source": [
        "def response_to_dict(ipa_list: list) -> dict:\n",
        "    \"\"\"Parse to dict the list of word-IPA\n",
        "\n",
        "    Each element of text hae the format:\n",
        "    [WORD][TAB][IPA]\n",
        "\n",
        "    Parameters\n",
        "    ----------\n",
        "    ipa_list: list\n",
        "        List with each row of ipa-dict raw dataset file\n",
        "\n",
        "    Returns\n",
        "    -------\n",
        "    dict:\n",
        "        A dictionary with the word as key and the phonetic\n",
        "        representation as value\n",
        "    \"\"\"\n",
        "    result = {}\n",
        "    for item in ipa_list:\n",
        "        item_list = item.split(\"\\t\")\n",
        "        result[item_list[0]] = item_list[1]\n",
        "    return result\n",
        "\n",
        "def get_ipa_dict(iso_lang: str) -> dict:\n",
        "    \"\"\"Get ipa-dict file from Github\n",
        "\n",
        "    Parameters:\n",
        "    -----------\n",
        "    iso_lang:\n",
        "        Language as iso code\n",
        "\n",
        "    Results:\n",
        "    --------\n",
        "    dict:\n",
        "        Dictionary with words as keys and phonetic representation\n",
        "        as values for a given lang code\n",
        "    \"\"\"\n",
        "    response = r.get(f\"https://raw.githubusercontent.com/open-dict-data/ipa-dict/master/data/{iso_lang}.txt\")\n",
        "    raw_data = response.text.split(\"\\n\")\n",
        "    return response_to_dict(raw_data[:-1])\n",
        "\n",
        "def get_ipa_transcriptions(word: str, dataset: dict) -> list[str]:\n",
        "    \"\"\"Search for word in a given dataset of IPA phonetics\n",
        "\n",
        "    Given a word this function return the IPA transcriptions\n",
        "\n",
        "    Parameters:\n",
        "    -----------\n",
        "    word: str\n",
        "        A word to search in the dataset\n",
        "    dataset: dict\n",
        "        A dataset for a given language code\n",
        "    Returns\n",
        "    -------\n",
        "    \"\"\"\n",
        "    return dataset.get(word.lower(), \"NOT FOUND\").split(\", \")\n"
      ],
      "metadata": {
        "id": "3vfeGyqYkI9V"
      },
      "id": "3vfeGyqYkI9V",
      "execution_count": 5,
      "outputs": []
    },
    {
      "cell_type": "code",
      "source": [
        "d = {\"apple\": 1}\n",
        "d.get('banana')"
      ],
      "metadata": {
        "id": "xc7dG6M1Rnuu"
      },
      "id": "xc7dG6M1Rnuu",
      "execution_count": 6,
      "outputs": []
    },
    {
      "cell_type": "markdown",
      "source": [
        "#### Obtengamos un par de datasets"
      ],
      "metadata": {
        "id": "h9Ri8YmwMnxR"
      },
      "id": "h9Ri8YmwMnxR"
    },
    {
      "cell_type": "code",
      "source": [
        "dataset_es_mx = get_ipa_dict(\"es_MX\")\n",
        "dataset_en_us = get_ipa_dict(\"en_US\")"
      ],
      "metadata": {
        "id": "SDspkhcdLmtx"
      },
      "id": "SDspkhcdLmtx",
      "execution_count": 7,
      "outputs": []
    },
    {
      "cell_type": "code",
      "source": [
        "print(f\"dog | {get_ipa_transcriptions('dog', dataset_en_us)}🐶\")\n",
        "print(f\"mariguana | {get_ipa_transcriptions('mariguana', dataset_es_mx)} 🪴\")"
      ],
      "metadata": {
        "colab": {
          "base_uri": "https://localhost:8080/"
        },
        "id": "abpslzJRMvD6",
        "outputId": "580109a6-8aee-4cc9-b90a-ac810b14e13d"
      },
      "id": "abpslzJRMvD6",
      "execution_count": 8,
      "outputs": [
        {
          "output_type": "stream",
          "name": "stdout",
          "text": [
            "dog | ['/ˈdɔɡ/']🐶\n",
            "mariguana | ['/maɾiɣwana/'] 🪴\n"
          ]
        }
      ]
    },
    {
      "cell_type": "code",
      "source": [
        "print(f\"[es_MX] hotel | {dataset_es_mx['hotel']}\")\n",
        "print(f\"[en_US] hotel | {dataset_en_us['hotel']}\")"
      ],
      "metadata": {
        "colab": {
          "base_uri": "https://localhost:8080/"
        },
        "id": "drw73avU9-ct",
        "outputId": "edbf88f4-84fd-462c-852c-e2e6017c40ae"
      },
      "id": "drw73avU9-ct",
      "execution_count": 9,
      "outputs": [
        {
          "output_type": "stream",
          "name": "stdout",
          "text": [
            "[es_MX] hotel | /otel/\n",
            "[en_US] hotel | /hoʊˈtɛɫ/\n"
          ]
        }
      ]
    },
    {
      "cell_type": "code",
      "source": [
        "def get_dataset() -> dict:\n",
        "    \"\"\"Download corpora from ipa-dict github\n",
        "\n",
        "    Given a list of iso lang codes download available datasets.\n",
        "\n",
        "    Returns\n",
        "    -------\n",
        "    dict\n",
        "        Lang codes as keys and dictionary with words-transcriptions\n",
        "        as values\n",
        "    \"\"\"\n",
        "    return {code: get_ipa_dict(code) for code in iso_lang_codes}\n",
        "\n",
        "dataset = get_dataset()"
      ],
      "metadata": {
        "id": "WcCmgrgnT9wK"
      },
      "id": "WcCmgrgnT9wK",
      "execution_count": 10,
      "outputs": []
    },
    {
      "cell_type": "markdown",
      "source": [
        "### Busquedas básicas automatizada"
      ],
      "metadata": {
        "id": "LvIugo1xLc4O"
      },
      "id": "LvIugo1xLc4O"
    },
    {
      "cell_type": "code",
      "source": [
        "dataset.keys()"
      ],
      "metadata": {
        "colab": {
          "base_uri": "https://localhost:8080/"
        },
        "id": "ZEI9zRAHTV02",
        "outputId": "2add2705-b6ad-4f4b-f4e5-f33b6fd2f8b2"
      },
      "id": "ZEI9zRAHTV02",
      "execution_count": 11,
      "outputs": [
        {
          "output_type": "execute_result",
          "data": {
            "text/plain": [
              "dict_keys(['ar', 'de', 'en_UK', 'en_US', 'eo', 'es_ES', 'es_MX', 'fa', 'fi', 'fr_FR', 'fr_QC', 'is', 'ja', 'jam', 'km', 'ko', 'ma', 'nb', 'nl', 'or', 'ro', 'sv', 'sw', 'tts', 'vi_C', 'vi_N', 'vi_S', 'yue', 'zh'])"
            ]
          },
          "metadata": {},
          "execution_count": 11
        }
      ]
    },
    {
      "cell_type": "code",
      "execution_count": 21,
      "id": "f5b7fbc2-4b95-4233-9fa6-17493bb2afb3",
      "metadata": {
        "tags": [],
        "colab": {
          "base_uri": "https://localhost:8080/"
        },
        "id": "f5b7fbc2-4b95-4233-9fa6-17493bb2afb3",
        "outputId": "e2b5ad02-a07d-413a-eb10-e48cd900ec81"
      },
      "outputs": [
        {
          "output_type": "stream",
          "name": "stdout",
          "text": [
            "Representación fonética de palabras\n",
            "Lenguas disponibles: ['ar', 'de', 'en_UK', 'en_US', 'eo', 'es_ES', 'es_MX', 'fa', 'fi', 'fr_FR', 'fr_QC', 'is', 'ja', 'jam', 'km', 'ko', 'ma', 'nb', 'nl', 'or', 'ro', 'sv', 'sw', 'tts', 'vi_C', 'vi_N', 'vi_S', 'yue', 'zh']\n",
            "lang>> ar\n",
            "Selected language: Arabic (Modern Standard)\n",
            "  [ar]word>> a\n",
            "a  |  NOT FOUND\n",
            "  [ar]word>> \n",
            " \n",
            "lang>> \n",
            "Adios 👋🏼\n"
          ]
        }
      ],
      "source": [
        "print(\"Representación fonética de palabras\")\n",
        "\n",
        "print(f\"Lenguas disponibles: {(iso_lang_codes)}\")\n",
        "\n",
        "lang = input(\"lang>> \")\n",
        "print(f\"Selected language: {lang_codes[lang]}\") if lang else print(\"Adios 👋🏼\")\n",
        "while lang:\n",
        "    sub_dataset = dataset[lang]\n",
        "    query = input(f\"  [{lang}]word>> \")\n",
        "    results = get_ipa_transcriptions(query, sub_dataset)\n",
        "    print(query, \" | \", \", \".join(results))\n",
        "    while query:\n",
        "        query = input(f\"  [{lang}]word>> \")\n",
        "        print(query, sub_dataset.get(query, query))\n",
        "    lang = input(\"lang>> \")\n",
        "    print(f\"Selected language: {lang_codes[lang]}\") if lang else print(\"Adios 👋🏼\")"
      ]
    },
    {
      "cell_type": "markdown",
      "source": [
        "### Encontrando palabras que tengan terminación similar"
      ],
      "metadata": {
        "id": "8TLGghJWFbIZ"
      },
      "id": "8TLGghJWFbIZ"
    },
    {
      "cell_type": "code",
      "source": [
        "from collections import defaultdict\n",
        "\n",
        "#sentence = \"There once was a cat that ate a rat and after that sat on a yellow mat\"\n",
        "#sentence = \"the cat sat on the mat and looked at the rat.\"\n",
        "#sentence = \"If you drop the ball it will fall on the doll\"\n",
        "sentence = \"cuando juego con fuego siento como brilla la orilla de mi corazón\"\n",
        "\n",
        "#lang = \"en_US\"\n",
        "lang = \"es_MX\"\n",
        "words = sentence.split(\" \")\n",
        "\n",
        "# Get words and IPA transciptions map\n",
        "word_ipa_map = {}\n",
        "for word in words:\n",
        "    ipa_transcriptions = get_ipa_transcriptions(word=word, dataset=dataset.get(lang))\n",
        "    ipa_transcriptions = [_.strip(\"/\") for _ in ipa_transcriptions]\n",
        "    word_ipa_map.update({word: ipa_transcriptions })\n",
        "\n",
        "rhyming_patterns = defaultdict(list)\n",
        "for word, ipa_list in word_ipa_map.items():\n",
        "    for ipa in ipa_list:\n",
        "        ipa_pattern = ipa[-2:]\n",
        "        rhyming_patterns[ipa_pattern].append(word)\n",
        "\n",
        "for pattern, words in rhyming_patterns.items():\n",
        "    if len(set(words)) > 1:\n",
        "        print(f\"{pattern}:: {', '.join(words)}\")"
      ],
      "metadata": {
        "colab": {
          "base_uri": "https://localhost:8080/"
        },
        "id": "B1JaTm-lUy3c",
        "outputId": "63d43cd8-0d73-411f-d2d8-867f385b6043"
      },
      "id": "B1JaTm-lUy3c",
      "execution_count": 13,
      "outputs": [
        {
          "output_type": "stream",
          "name": "stdout",
          "text": [
            "ɣo:: juego, fuego\n",
            "on:: con, corazón\n",
            "ʎa:: brilla, orilla\n"
          ]
        }
      ]
    },
    {
      "cell_type": "markdown",
      "source": [
        "### Práctica 1: Buscador equivalencias fonéticas en un corpus\n",
        "\n",
        "**Fecha de entrega: Domingo 27 de Agosto 2023 11:59pm**\n",
        "\n",
        "- Agregar un nuevo modo de búsqueda donde se extienda el comportamiento básico del buscador para ahora buscar por frases. Ejemplo:\n",
        "\n",
        "```\n",
        "[es_MX]>>> Hola que hace\n",
        " /ola/ /ke/ /ase/\n",
        "```\n",
        "\n",
        "- Optimizar el código para agregar los datasets en un \"cache\" a demanda y no descargar todo el corpus de un trancazo. Esto quiere decir que al inicio de la ejecución no habrá ningun dataset descargado. Mientras la usuaria vaya seleccionado idiomas los irá agregando a un cache local (puede ser persistente o en memoria). Ejemplo:\n",
        "\n",
        "```\n",
        "lang>> es_MX\n",
        "Corpus no encontrado. Descargando ...\n",
        "[es_MX]>>\n",
        "...\n",
        "lang>> en_US\n",
        "Corpus no encontrado. Descargando ...\n",
        "[en_US]>>\n",
        "...\n",
        "lang>> es_MX\n",
        "[es_MX]>>\n",
        "...\n",
        "```\n",
        "\n",
        "#### EXTRA\n",
        "\n",
        "- Mejorar la solución al escenario cuando no se encuentran las palabras en el dataset mostrando palabras similares. Ejemplo:\n",
        "\n",
        "```\n",
        "[es_MX]>> pero\n",
        "No se encontro <<pero>> en el dataset. Palabras aproximadas:\n",
        "perro /pero/\n",
        "perno /peɾno/\n",
        "[es_MX]>>\n",
        "```"
      ],
      "metadata": {
        "id": "bFfv_5FnANgs"
      },
      "id": "bFfv_5FnANgs"
    },
    {
      "cell_type": "code",
      "source": [
        "pip install levenshtein"
      ],
      "metadata": {
        "colab": {
          "base_uri": "https://localhost:8080/"
        },
        "id": "9KHN_m6bqYBw",
        "outputId": "7eff3e59-0c03-4a05-deb1-9e16a4d31a56"
      },
      "id": "9KHN_m6bqYBw",
      "execution_count": 19,
      "outputs": [
        {
          "output_type": "stream",
          "name": "stdout",
          "text": [
            "Collecting levenshtein\n",
            "  Downloading Levenshtein-0.21.1-cp310-cp310-manylinux_2_17_x86_64.manylinux2014_x86_64.whl (172 kB)\n",
            "\u001b[2K     \u001b[90m━━━━━━━━━━━━━━━━━━━━━━━━━━━━━━━━━━━━━━━\u001b[0m \u001b[32m172.5/172.5 kB\u001b[0m \u001b[31m2.0 MB/s\u001b[0m eta \u001b[36m0:00:00\u001b[0m\n",
            "\u001b[?25hCollecting rapidfuzz<4.0.0,>=2.3.0 (from levenshtein)\n",
            "  Downloading rapidfuzz-3.2.0-cp310-cp310-manylinux_2_17_x86_64.manylinux2014_x86_64.whl (3.1 MB)\n",
            "\u001b[2K     \u001b[90m━━━━━━━━━━━━━━━━━━━━━━━━━━━━━━━━━━━━━━━━\u001b[0m \u001b[32m3.1/3.1 MB\u001b[0m \u001b[31m12.7 MB/s\u001b[0m eta \u001b[36m0:00:00\u001b[0m\n",
            "\u001b[?25hInstalling collected packages: rapidfuzz, levenshtein\n",
            "Successfully installed levenshtein-0.21.1 rapidfuzz-3.2.0\n"
          ]
        }
      ]
    },
    {
      "cell_type": "code",
      "source": [
        "from Levenshtein import distance"
      ],
      "metadata": {
        "id": "kAP4nu9Gq0X2"
      },
      "id": "kAP4nu9Gq0X2",
      "execution_count": 20,
      "outputs": []
    },
    {
      "cell_type": "code",
      "execution_count": 38,
      "metadata": {
        "tags": [],
        "colab": {
          "base_uri": "https://localhost:8080/"
        },
        "outputId": "d735104d-ce80-4db7-f337-0ae16b7e0402",
        "id": "gQKC56dvk-N6"
      },
      "outputs": [
        {
          "output_type": "stream",
          "name": "stdout",
          "text": [
            "Representación fonética por frases\n",
            "Lenguas disponibles: ['ar', 'de', 'en_UK', 'en_US', 'eo', 'es_ES', 'es_MX', 'fa', 'fi', 'fr_FR', 'fr_QC', 'is', 'ja', 'jam', 'km', 'ko', 'ma', 'nb', 'nl', 'or', 'ro', 'sv', 'sw', 'tts', 'vi_C', 'vi_N', 'vi_S', 'yue', 'zh']\n",
            "lang>> es_MX\n",
            "Selected language: Spanish (Mexico)\n",
            "Corpus no encontrado. Descargando ...\n",
            "  [es_MX]frase>> hola quu hace\n",
            "hola quu hace  |  /ola/ NOT FOUND /ase/\n",
            "No se encontró <<quu>> en el dataset. Palabras aproximadas:\n",
            "qué /ˈke/\n",
            "que /ke/\n",
            "  [es_MX]frase>> \n",
            "lang>> es_MX\n",
            "Selected language: Spanish (Mexico)\n",
            "  [es_MX]frase>> hola qqe hace\n",
            "hola qqe hace  |  /ola/ NOT FOUND /ase/\n",
            "No se encontró <<qqe>> en el dataset. Palabras aproximadas:\n",
            "que /ke/\n",
            "  [es_MX]frase>> \n",
            "lang>> \n",
            "Adios 👋🏼\n"
          ]
        }
      ],
      "source": [
        "print(\"Representación fonética por frases\")\n",
        "\n",
        "print(f\"Lenguas disponibles: {(iso_lang_codes)}\")\n",
        "\n",
        "lang = input(\"lang>> \")\n",
        "used_languages = {}\n",
        "print(f\"Selected language: {lang_codes[lang]}\") if lang else print(\"Adios 👋🏼\")\n",
        "while lang:\n",
        "    if lang not in used_languages:\n",
        "      print(\"Corpus no encontrado. Descargando ...\")\n",
        "      used_languages[lang] = dataset[lang]\n",
        "    sub_dataset = used_languages[lang]\n",
        "    query = input(f\"  [{lang}]frase>> \")\n",
        "    while query:\n",
        "      results = []\n",
        "      not_found = {}\n",
        "      query_list = query.split()\n",
        "      for word in query_list:\n",
        "        ipa_query = get_ipa_transcriptions(word, sub_dataset)[0]\n",
        "        if ipa_query == \"NOT FOUND\":\n",
        "          not_found[word] = []\n",
        "          for compared_word in sub_dataset:\n",
        "            if distance(compared_word, word) == 1:\n",
        "              not_found[word].append(compared_word)\n",
        "        results.append(ipa_query)\n",
        "      print(query, \" | \", \" \".join(results))\n",
        "      for word in not_found:\n",
        "        print(f\"No se encontró <<{word}>> en el dataset. Palabras aproximadas:\")\n",
        "        for similar_word in not_found[word]:\n",
        "          print(similar_word, \" \".join(get_ipa_transcriptions(similar_word, sub_dataset)))\n",
        "      query = input(f\"  [{lang}]frase>> \")\n",
        "    lang = input(\"lang>> \")\n",
        "    print(f\"Selected language: {lang_codes[lang]}\") if lang else print(\"Adios 👋🏼\")"
      ],
      "id": "gQKC56dvk-N6"
    }
  ],
  "metadata": {
    "kernelspec": {
      "display_name": "Python 3 (ipykernel)",
      "language": "python",
      "name": "python3"
    },
    "language_info": {
      "codemirror_mode": {
        "name": "ipython",
        "version": 3
      },
      "file_extension": ".py",
      "mimetype": "text/x-python",
      "name": "python",
      "nbconvert_exporter": "python",
      "pygments_lexer": "ipython3",
      "version": "3.11.3"
    },
    "colab": {
      "provenance": [],
      "collapsed_sections": [
        "8TLGghJWFbIZ"
      ]
    }
  },
  "nbformat": 4,
  "nbformat_minor": 5
}