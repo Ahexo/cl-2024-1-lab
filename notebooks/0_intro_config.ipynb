{
 "cells": [
  {
   "cell_type": "markdown",
   "id": "040c998d-09c3-48cc-99c0-d18bb12ca229",
   "metadata": {},
   "source": [
    "# 0. Presentación del laboratorio y configuración del entorno de trabajo\n",
    "\n",
    "## Temario\n",
    "\n",
    "1. Introducción al laboratorio y configuraciones\n",
    "    * Qué vamos a trabajar?\n",
    "    * Configurando Python y un IDE\n",
    "    * Git + Github\n",
    "2. Fundamentos de `python` y relación con el Procesamiento del Lenguaje Natural (PLN)\n",
    "    * Estructuras de control, tipos de datos, funciones y bibliotecas chidas\n",
    "    * Python y el Procesamiento del Lenguaje Natural (PLN)\n",
    "    * Paquetes que utilizaremos: `nltk`, `spicy`, `py-elotl`\n",
    "    * __PRACTICA:__ Cuéntame un cuento y las palabras que contiene\n",
    "3. Preprocesamiento de textos\n",
    "    * Tokenizers\n",
    "      * Buscando la aguja en el pajar con `REGEX`\n",
    "      * Me lo conto un pajarito: TweetTokenizer\n",
    "      * Normalización de textos (nieve y lemas)\n",
    "      * Alto a las Stop Words\n",
    "      * N-gramas\n",
    "    * __PRACTICA:__ Encuentra el significado de la vida, el universo y todo lo demás\n",
    "4. TODO..."
   ]
  },
  {
   "cell_type": "code",
   "execution_count": null,
   "id": "21271313-2203-42c1-8d64-5c15cfafb9c6",
   "metadata": {},
   "outputs": [],
   "source": []
  }
 ],
 "metadata": {
  "kernelspec": {
   "display_name": "Python 3 (ipykernel)",
   "language": "python",
   "name": "python3"
  },
  "language_info": {
   "codemirror_mode": {
    "name": "ipython",
    "version": 3
   },
   "file_extension": ".py",
   "mimetype": "text/x-python",
   "name": "python",
   "nbconvert_exporter": "python",
   "pygments_lexer": "ipython3",
   "version": "3.11.3"
  }
 },
 "nbformat": 4,
 "nbformat_minor": 5
}
