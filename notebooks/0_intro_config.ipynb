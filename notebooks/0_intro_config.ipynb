{
 "cells": [
  {
   "cell_type": "markdown",
   "id": "040c998d-09c3-48cc-99c0-d18bb12ca229",
   "metadata": {
    "tags": []
   },
   "source": [
    "# Laboratorio de Computación Lingüistica"
   ]
  },
  {
   "cell_type": "markdown",
   "id": "8f152cc8-1daf-4f4e-a4ec-0c010fbc5155",
   "metadata": {
    "jp-MarkdownHeadingCollapsed": true,
    "tags": []
   },
   "source": [
    "## Temario"
   ]
  },
  {
   "cell_type": "markdown",
   "id": "ba2da4ef-1b93-4b68-825b-c46bb2f8b4f0",
   "metadata": {},
   "source": [
    "1. Introducción al laboratorio y configuraciones\n",
    "    * ¿Qué vamos a trabajar?\n",
    "    * Git + Github\n",
    "    * ¿Cómo vamos a trabajar? Metodología de entrega de tareas y practicas\n",
    "    * __PRACTICA:__ Configuración de `python`, `jupyter-labs` y el plug-in para `git` \n",
    "2. Fundamentos de `python` y relación con el Procesamiento del Lenguaje Natural (PLN)\n",
    "    * Estructuras de control, tipos de datos, funciones y bibliotecas chidas\n",
    "    * Python y el Procesamiento del Lenguaje Natural (PLN)\n",
    "    * Paquetes que utilizaremos: `nltk`, `spicy`, `py-elotl`\n",
    "    * __PRACTICA:__ Cuéntame un cuento y las palabras que contiene\n",
    "3. Preprocesamiento de textos\n",
    "    * Tokenizers\n",
    "      * Buscando la aguja en el pajar con `REGEX`\n",
    "      * Me lo conto un pajarito: TweetTokenizer\n",
    "      * Normalización de textos (nieve y lemas)\n",
    "      * Alto a las Stop Words\n",
    "      * N-gramas\n",
    "    * __PRACTICA:__ Encuentra el significado de la vida, el universo y todo lo demás\n",
    "4. TODO..."
   ]
  },
  {
   "cell_type": "markdown",
   "id": "c0095dd9-9ba9-4e64-8533-283a7ad6ccc4",
   "metadata": {
    "jp-MarkdownHeadingCollapsed": true,
    "tags": []
   },
   "source": [
    "## ¿Qué vamos a trabajar?"
   ]
  },
  {
   "cell_type": "markdown",
   "id": "213c2791-f7f7-4eba-ab85-b088a5ae3bd3",
   "metadata": {},
   "source": [
    "\n",
    "- Laboratorio que cubre el aspecto práctico de la materia\n",
    "- Varias prácticas pequeñas (procurando) ir a la par con los temas de la clase principal\n",
    "- Entregables a través de Github usando la herramienta git (más al respecto a continuación)\n",
    "- Tareas ocasionales\n",
    "- Una práctica final interante\n",
    "\n",
    "**NOTA: Es obligatorio pasar el laboratorio para aprobar la materia 😨**"
   ]
  },
  {
   "cell_type": "markdown",
   "id": "b65d216f-d5a1-455f-9f3e-421de2c47893",
   "metadata": {
    "jp-MarkdownHeadingCollapsed": true,
    "tags": []
   },
   "source": [
    "## Practicas (tentativas)"
   ]
  },
  {
   "cell_type": "markdown",
   "id": "a1971486-9365-4c89-96ce-35c6a026eebe",
   "metadata": {},
   "source": [
    "1. Configuracion de python, git y entorno de trabajo\n",
    "2. Ley de ziph, normalizacion y tokenizacion\n",
    "3. Word embedings, matriz documento termino \n",
    "4. Traduccion automatica\n",
    "5. LLMs y promt engineering"
   ]
  },
  {
   "cell_type": "markdown",
   "id": "0647ea84-d949-418a-a37a-6807d674a648",
   "metadata": {
    "jp-MarkdownHeadingCollapsed": true,
    "tags": []
   },
   "source": [
    "## Sobre mi y contacto"
   ]
  },
  {
   "cell_type": "markdown",
   "id": "ff945f2f-7648-46f7-aa38-ccb7da61f306",
   "metadata": {},
   "source": [
    "Soy MLOps engineer en Mercado Libre, desarrollador de software libre en Comunidad Elotl y LIDSoL. Me late la cultura libre, andar en bici y uso arch BTW :p\n",
    "\n",
    "![Fotos de lidsol y elotl](todo)\n",
    "<div style=\"display: flex; justify-content: space-between;\">\n",
    "    \n",
    "</div>\n",
    "\n",
    "- dbarriga@ciencias.unam.mx\n",
    "- Telegram: @umoqnier"
   ]
  },
  {
   "cell_type": "markdown",
   "id": "07b18364-3786-42a3-938e-3656db5b8d17",
   "metadata": {
    "tags": []
   },
   "source": [
    "## Introducción `git` y Github"
   ]
  },
  {
   "cell_type": "markdown",
   "id": "4acac100-bc97-43f1-bd5f-3cfa30091658",
   "metadata": {},
   "source": [
    "### Objetivo"
   ]
  },
  {
   "cell_type": "markdown",
   "id": "a72a8dc2-2093-4572-b234-7a8f4e4e2866",
   "metadata": {},
   "source": [
    "El alumno conocerá la herramienta `git` para el control de versiones y aprendera a usarla desde línea de comandos y desde una interface web/gráfica. "
   ]
  },
  {
   "cell_type": "markdown",
   "id": "090edbec-84e0-4bff-81e7-b734755d03a2",
   "metadata": {},
   "source": [
    "### ¿Qué es git y pa' que sirve?"
   ]
  },
  {
   "cell_type": "markdown",
   "id": "4b771e93-e717-4659-8787-a54c224f680e",
   "metadata": {},
   "source": [
    "Software libre cuyo proposito es versionar los archivos de un **directorio de trabajo** dado. Se le conoce como Sistema de control de versiones.\n",
    "\n",
    "![Imagen de versiones de word](img/file_versioning.jpg)"
   ]
  },
  {
   "cell_type": "markdown",
   "id": "c5e8db82-2e99-43e2-aed7-3551c0f1f3d8",
   "metadata": {},
   "source": [
    "### Sistemas de control de versiones"
   ]
  },
  {
   "cell_type": "markdown",
   "id": "5b5c16eb-f971-480e-b97d-750c0791c585",
   "metadata": {},
   "source": [
    "- Guardado de versiones de archivos\n",
    "- Visualizar diferencias entre archivos\n",
    "- Trabaja con texto principalmente\n",
    "- Asociación de cambios con autorxs\n",
    "- Regresar en el tiempo a versiones anteriores"
   ]
  },
  {
   "cell_type": "markdown",
   "id": "f810e75f-1075-4491-9021-99fbcb9be0de",
   "metadata": {
    "tags": []
   },
   "source": [
    "### Caracteristicas de git"
   ]
  },
  {
   "cell_type": "markdown",
   "id": "2b6a5a08-e3ae-4e0a-8e8b-5133cdcd5869",
   "metadata": {},
   "source": [
    "- Creado en el contexto del desarrollo del [kernel de linux](https://www.youtube.com/watch?v=5iFnzr73XXk)\n",
    "- Enfoque distribuido\n",
    "- Velocidad y simpleza\n",
    "- Creación de multiples ramas\n",
    "- Varias desarrolladoras trabajando en un mismo proyecto"
   ]
  },
  {
   "cell_type": "code",
   "execution_count": 5,
   "id": "de0e9924-0890-4105-89a6-700d5a14bea4",
   "metadata": {
    "tags": []
   },
   "outputs": [
    {
     "data": {
      "text/html": [
       "<iframe width=\"760\" height=\"415\" src=\"https://www.youtube.com/embed/5iFnzr73XXk?controls=1\"></iframe>\n"
      ],
      "text/plain": [
       "<IPython.core.display.HTML object>"
      ]
     },
     "metadata": {},
     "output_type": "display_data"
    }
   ],
   "source": [
    "%%HTML\n",
    "<iframe width=\"760\" height=\"415\" src=\"https://www.youtube.com/embed/5iFnzr73XXk?controls=1\"></iframe>"
   ]
  },
  {
   "cell_type": "markdown",
   "id": "05e2cae4-cace-4533-828b-6358dff98a60",
   "metadata": {
    "tags": []
   },
   "source": [
    "### Areas de trabajo"
   ]
  },
  {
   "cell_type": "markdown",
   "id": "ccaaf4e7-ef47-4b7e-afbc-1d4ec00dabd9",
   "metadata": {},
   "source": [
    "Git trabaja con tres áreas principales:\n",
    "1. Working directory\n",
    "2. Staging area\n",
    "3. Repositorio local (`.git`)\n",
    "    - Aquí se guardan los commits (en tu computadora local)\n",
    "\n",
    "![imagen de las areas de trabajo](img/git_areas.png)\n",
    "\n",
    "#### ¿Cómo mover archivos entre areas?\n",
    "\n",
    "- `vim archivo.c` - Modifica un archivo y git detecta cambios\n",
    "- `git add` - Envia las modificaciones al *staging area*\n",
    "- `git commit` - Guarda los cambios que estuvieran en el *staging area* en el directorio `.git`\n",
    "- `git reset` - Se pueden deshacer cambios en el *staging area*"
   ]
  },
  {
   "cell_type": "markdown",
   "id": "f26dbd9b-8009-44de-9f61-682a97083dda",
   "metadata": {
    "tags": []
   },
   "source": [
    "### Instalación de git"
   ]
  },
  {
   "cell_type": "markdown",
   "id": "01d373d7-9d4f-479c-852e-47ded7a38107",
   "metadata": {
    "tags": []
   },
   "source": [
    "- Linux\n",
    "- Windows\n",
    "- Mac"
   ]
  },
  {
   "cell_type": "markdown",
   "id": "07d9af54-484c-4cd9-8c22-101ad9781b13",
   "metadata": {
    "tags": []
   },
   "source": [
    "### GitHub"
   ]
  },
  {
   "cell_type": "markdown",
   "id": "1a16bde0-d51f-458b-9538-34b9a165c23d",
   "metadata": {
    "tags": []
   },
   "source": [
    "#### Creando una cuenta de github"
   ]
  },
  {
   "cell_type": "markdown",
   "id": "8ee1706b-524e-4e1d-bbb2-811215e1804a",
   "metadata": {},
   "source": [
    "#### Creando un repo propio"
   ]
  },
  {
   "cell_type": "markdown",
   "id": "83d50183-8998-442d-9365-1d20bf213ab5",
   "metadata": {
    "tags": []
   },
   "source": [
    "#### Configuración de llaves ssh"
   ]
  },
  {
   "cell_type": "markdown",
   "id": "8175b57c-7c2e-4215-9bf6-15264c47e205",
   "metadata": {},
   "source": [
    "- [Generación de claves ssh](https://docs.github.com/es/authentication/connecting-to-github-with-ssh)"
   ]
  },
  {
   "cell_type": "markdown",
   "id": "f5582a00-c0fd-4d1d-b09b-c0f572f7431e",
   "metadata": {
    "tags": []
   },
   "source": [
    "### Git crash course\n"
   ]
  },
  {
   "cell_type": "markdown",
   "id": "d2123ccf-3c70-405f-a5cc-cb7b1d541fe4",
   "metadata": {},
   "source": [
    "#### Configuraciones básicas\n",
    "\n",
    "- `git config --global user.name \"Dieguito Maradona\"`\n",
    "- `git config --global user.email \"maradona@gmail.com\"`\n"
   ]
  },
  {
   "cell_type": "markdown",
   "id": "9a5c8dd9-085e-4901-816a-f13c93ac45b6",
   "metadata": {
    "tags": []
   },
   "source": [
    "#### Clonando un repositorio remoto"
   ]
  },
  {
   "cell_type": "markdown",
   "id": "6fab5d9a-be7e-419d-bcd1-e9b7f9eb2573",
   "metadata": {},
   "source": [
    "- `git clone <url>`"
   ]
  },
  {
   "cell_type": "markdown",
   "id": "99007aec-f070-42fd-8797-51e0822203d0",
   "metadata": {
    "tags": []
   },
   "source": [
    "#### Agregando y confirmando cambios"
   ]
  },
  {
   "cell_type": "markdown",
   "id": "6281060f-4639-4caf-92e6-b082ec9bde7c",
   "metadata": {},
   "source": [
    "- `git add`: Este comando agrega archivos al área de staging que es previa al área de cambios definitivos\n",
    "    - Agregar achivos individuales\n",
    "    - Agregar por extension\n",
    "    - Agregar todo en un directorio\n",
    "- `git commit`: Confirma los cambios que esten en el area de staging. Se crea un punto en la historia del proyecto\n",
    "    - El commit debe ser acompañado con un mensaje descriptivo de los cambios\n",
    "    - Es mejor muchos commits que hagan una cosa pequeña a un solo commit con muchos cambios\n",
    "- `git status`: Verificamos el estado actual del proyecto. ¿Qué cambios hubo y dónde?\n",
    "- `.gitignore`: Archivo de texto que permite excluir archivos para que `git` los ignore\n",
    "- `git push` y `git pull`: Para mandar y recibir cambios desde un repositorio remoto (o sea algún lugar fuera de nuetra PC gamer)\n",
    "- `git log`: Revisar el historial de commits del proyecto, sus mensajes y quien realizó los cambios\n",
    "\n",
    "![Git workflow](img/git_work_model.png)\n",
    "\n",
    "**PRACTICE TIME**"
   ]
  },
  {
   "cell_type": "markdown",
   "id": "28801fa7-9e13-4534-86e2-294499974c1f",
   "metadata": {
    "tags": []
   },
   "source": [
    "#### Ramas"
   ]
  },
  {
   "cell_type": "markdown",
   "id": "b65bf6dc-c133-40d5-8ada-efd0aead6855",
   "metadata": {},
   "source": []
  },
  {
   "cell_type": "markdown",
   "id": "fe82b8d5-5d8b-4508-bf83-24edfe9cc604",
   "metadata": {},
   "source": [
    "#### Forks"
   ]
  },
  {
   "cell_type": "markdown",
   "id": "0b50e9b1-2b59-4e53-af85-98b3f0e280c4",
   "metadata": {
    "tags": []
   },
   "source": [
    "#### Creando mi primer Pull Request"
   ]
  },
  {
   "cell_type": "markdown",
   "id": "2f3b3f40-4333-482e-a876-b73a8914b555",
   "metadata": {},
   "source": [
    "#### Creando repositorios locales y conectandolos"
   ]
  },
  {
   "cell_type": "markdown",
   "id": "ab9ad4e6-d677-4c7d-a250-408b25db6b97",
   "metadata": {},
   "source": [
    "- `git init`"
   ]
  }
 ],
 "metadata": {
  "kernelspec": {
   "display_name": "Python 3 (ipykernel)",
   "language": "python",
   "name": "python3"
  },
  "language_info": {
   "codemirror_mode": {
    "name": "ipython",
    "version": 3
   },
   "file_extension": ".py",
   "mimetype": "text/x-python",
   "name": "python",
   "nbconvert_exporter": "python",
   "pygments_lexer": "ipython3",
   "version": "3.11.3"
  }
 },
 "nbformat": 4,
 "nbformat_minor": 5
}
