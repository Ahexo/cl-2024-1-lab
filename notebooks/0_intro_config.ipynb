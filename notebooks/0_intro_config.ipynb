{
 "cells": [
  {
   "cell_type": "markdown",
   "id": "040c998d-09c3-48cc-99c0-d18bb12ca229",
   "metadata": {
    "tags": []
   },
   "source": [
    "# Laboratorio de Lingüística Computacional 🥼"
   ]
  },
  {
   "cell_type": "markdown",
   "id": "8f152cc8-1daf-4f4e-a4ec-0c010fbc5155",
   "metadata": {
    "tags": []
   },
   "source": [
    "## Temario"
   ]
  },
  {
   "cell_type": "markdown",
   "id": "ba2da4ef-1b93-4b68-825b-c46bb2f8b4f0",
   "metadata": {},
   "source": [
    "0. Introducción al laboratorio y entornos de trabajo\n",
    "    * Objetivo\n",
    "    * ¿Qué vamos a trabajar?\n",
    "    * Git + Github\n",
    "    * Google colab\n",
    "        * Integración con GitHub\n",
    "        * Instalar cosas\n",
    "        * Subir cosas\n",
    "    * ¿Cómo vamos a trabajar? Metodología de entrega de tareas y practicas\n",
    "    * __PRACTICA:__ Su primer PR al repositorio del lab con su nombre\n",
    "        * *Extra:* Configuración local de `python`, `jupyter-labs` y plug-in para `git`\n",
    "1. Fundamentos\n",
    "    - Evolución del procesamiento del lenguaje natural \n",
    "    - Niveles de estudio del lenguaje natural  (fonología, morfología, sintaxis, semántica, pragmática)\n",
    "    - Aplicaciones\n",
    "2. Pre-procesamiento del texto\n",
    "    - Propiedades estadísticas del lenguaje natural (ley de Zipf y otras leyes empíricas, entropía de los textos)\n",
    "    - Normalización y filtrado de textos\n",
    "    - Tokenización\n",
    "3. Representaciones vectoriales de palabras (word embeddings)\n",
    "    - Matriz documento-término\n",
    "    - Vectores de palabra estáticos\n",
    "    - Vectores de palabra contextualizados\n",
    "4. Aplicaciones generales y otros temas\n",
    "    - Grandes modelos de lenguaje (LLMs)\n",
    "    - Traducción automática\n",
    "    - Multilingüismo y consideraciones éticas"
   ]
  },
  {
   "cell_type": "markdown",
   "id": "2eb7b951-6871-4762-ac66-5334bc81db54",
   "metadata": {
    "tags": []
   },
   "source": [
    "### OBJETIVO GENERAL\n",
    "\n",
    "- Conocer herramientas altamente usadas en la industria y academia para ser unæ **destacadæ** practicante del *Natural Language Processing (NLP)*\n",
    "- Que se sientan comodæs con las herramientas mas ampliamante usadas allá afuera (dónde sea que esté ese lugar)\n",
    "- Practicar lo que vean en clase :)\n",
    "\n",
    "![I have no idea](img/dog_meme.jpg)"
   ]
  },
  {
   "cell_type": "markdown",
   "id": "c0095dd9-9ba9-4e64-8533-283a7ad6ccc4",
   "metadata": {
    "tags": []
   },
   "source": [
    "## ¿Qué vamos a trabajar?"
   ]
  },
  {
   "cell_type": "markdown",
   "id": "213c2791-f7f7-4eba-ab85-b088a5ae3bd3",
   "metadata": {},
   "source": [
    "- Este laboratorio que cubre los aspectos prácticos de la clase teórica\n",
    "- Varias prácticas pequeñas y acumulativas\n",
    "    - Procuraremos ir a la par con los temas de la clase principal\n",
    "- Al final de cada práctica se dejará un ejercicio y opcionalmente un **EXTRA**\n",
    "![Creditos extra](img/creditos_extra.jpg)\n",
    "- Queremos que se sientan comodos con `Google colab`, `jupyter notebooks`, `git` y workflows con plataformas como Github\n",
    "- Entregables a través de Github usando `git`, forks y pull requests (más al respecto a continuación)\n",
    "\n",
    "**NOTA: Es obligatorio pasar el laboratorio para aprobar la materia 😨 Aprobar es que las prácticas entregadas promedien mínimo 6.**"
   ]
  },
  {
   "cell_type": "markdown",
   "id": "0647ea84-d949-418a-a37a-6807d674a648",
   "metadata": {
    "tags": []
   },
   "source": [
    "## Sobre mi y contacto"
   ]
  },
  {
   "cell_type": "markdown",
   "id": "ff945f2f-7648-46f7-aa38-ccb7da61f306",
   "metadata": {},
   "source": [
    "- Me llamo Diego Barriga (asies, como el Señor Barriga)\n",
    "- Trabajo como MLOps engineer en Mercado Libre\n",
    "- Hice [mi tesis](https://github.com/umoqnier/otomi-morph-segmenter) sobre NLP y lenguas indígenas mexicanas\n",
    "- Desarrollo software libre para Comunidad Elotl y LIDSoL\n",
    "- Me late la cultura libre, andar en bici y uso arch BTW :p\n",
    "\n",
    "<div style=\"display: flex; justify-content: space-between;\">\n",
    "    <a href=\"https://elotl.mx/\" target=\"_blank\"><img src=\"img/elotl.png\" style=\"width: 30%;\"></a>\n",
    "    <a href=\"https://lidsol.org/\" target=\"_blank\"><img src=\"img/lidsol.svg\" style=\"width: 80%;\"></a>\n",
    "</div>\n",
    "\n",
    "#### Contacto\n",
    "\n",
    "- dbarriga@ciencias.unam.mx\n",
    "- umoqnier@riseup.net\n",
    "- Telegram: @umoqnier\n",
    "- Lunes de 4 a 6pm en el Laboratorio :p"
   ]
  },
  {
   "cell_type": "markdown",
   "id": "07b18364-3786-42a3-938e-3656db5b8d17",
   "metadata": {
    "tags": []
   },
   "source": [
    "## Introducción al laboratorio y entorno de trabajo"
   ]
  },
  {
   "cell_type": "markdown",
   "id": "4acac100-bc97-43f1-bd5f-3cfa30091658",
   "metadata": {},
   "source": [
    "### Objetivos"
   ]
  },
  {
   "cell_type": "markdown",
   "id": "a72a8dc2-2093-4572-b234-7a8f4e4e2866",
   "metadata": {},
   "source": [
    " - El alumno conocerá la herramienta `git` para el control de versiones y aprendera a usarla desde línea de comandos\n",
    " - Uso de plataforma Github para entrega de practicas\n",
    " - Uso de plataforma Google Colab"
   ]
  },
  {
   "cell_type": "markdown",
   "id": "090edbec-84e0-4bff-81e7-b734755d03a2",
   "metadata": {
    "tags": []
   },
   "source": [
    "### ¿Qué es git y pa' que sirve?"
   ]
  },
  {
   "cell_type": "markdown",
   "id": "4b771e93-e717-4659-8787-a54c224f680e",
   "metadata": {},
   "source": [
    "Software libre cuyo proposito es versionar los archivos de un **directorio de trabajo** dado. Se le conoce como Sistema de control de versiones.\n",
    "\n",
    "![Imagen de versiones de word](img/file_versioning.jpg)"
   ]
  },
  {
   "cell_type": "markdown",
   "id": "c5e8db82-2e99-43e2-aed7-3551c0f1f3d8",
   "metadata": {
    "tags": []
   },
   "source": [
    "#### Sistemas de control de versiones"
   ]
  },
  {
   "cell_type": "markdown",
   "id": "5b5c16eb-f971-480e-b97d-750c0791c585",
   "metadata": {},
   "source": [
    "- Guardado de versiones de archivos\n",
    "- Visualizar diferencias entre archivos\n",
    "- Trabaja con texto principalmente\n",
    "- Asociación de cambios con autoræs\n",
    "- Regresar en el tiempo a versiones anteriores"
   ]
  },
  {
   "cell_type": "markdown",
   "id": "f810e75f-1075-4491-9021-99fbcb9be0de",
   "metadata": {
    "tags": []
   },
   "source": [
    "#### Caracteristicas de git"
   ]
  },
  {
   "cell_type": "markdown",
   "id": "2b6a5a08-e3ae-4e0a-8e8b-5133cdcd5869",
   "metadata": {},
   "source": [
    "- Creado en el contexto del desarrollo del [kernel de linux](https://www.youtube.com/watch?v=5iFnzr73XXk)\n",
    "- Enfoque distribuido\n",
    "- Velocidad y simpleza\n",
    "- Creación de multiples ramas\n",
    "- Varias desarrolladoras trabajando en un mismo proyecto"
   ]
  },
  {
   "cell_type": "code",
   "execution_count": 3,
   "id": "de0e9924-0890-4105-89a6-700d5a14bea4",
   "metadata": {
    "tags": []
   },
   "outputs": [
    {
     "data": {
      "text/html": [
       "<iframe width=\"760\" height=\"415\" src=\"https://www.youtube.com/embed/5iFnzr73XXk?controls=1\"></iframe>\n"
      ],
      "text/plain": [
       "<IPython.core.display.HTML object>"
      ]
     },
     "metadata": {},
     "output_type": "display_data"
    }
   ],
   "source": [
    "%%HTML\n",
    "<iframe width=\"760\" height=\"415\" src=\"https://www.youtube.com/embed/5iFnzr73XXk?controls=1\"></iframe>"
   ]
  },
  {
   "cell_type": "markdown",
   "id": "05e2cae4-cace-4533-828b-6358dff98a60",
   "metadata": {
    "tags": []
   },
   "source": [
    "#### Areas de trabajo"
   ]
  },
  {
   "cell_type": "markdown",
   "id": "ccaaf4e7-ef47-4b7e-afbc-1d4ec00dabd9",
   "metadata": {},
   "source": [
    "Git trabaja con tres áreas principales:\n",
    "1. Working directory\n",
    "2. Staging area\n",
    "3. Repositorio local (`.git`)\n",
    "    - Aquí se guardan los commits (en tu computadora local)\n",
    "\n",
    "![imagen de las areas de trabajo](img/git_areas.png)\n",
    "\n",
    "#### ¿Cómo mover archivos entre areas?\n",
    "\n",
    "- `vim archivo.c` - Modifica un archivo y git detecta cambios\n",
    "- `git add` - Envia las modificaciones al *staging area*\n",
    "- `git commit` - Guarda los cambios que estuvieran en el *staging area* en el directorio `.git`\n",
    "- `git restore` - Se pueden deshacer cambios en el *staging area*"
   ]
  },
  {
   "cell_type": "markdown",
   "id": "f26dbd9b-8009-44de-9f61-682a97083dda",
   "metadata": {
    "tags": []
   },
   "source": [
    "#### Instalación de git (por si no lo tienen)"
   ]
  },
  {
   "cell_type": "markdown",
   "id": "01d373d7-9d4f-479c-852e-47ded7a38107",
   "metadata": {
    "tags": []
   },
   "source": [
    "- [Guia de instalacion](https://git-scm.com/downloads)"
   ]
  },
  {
   "cell_type": "markdown",
   "id": "07d9af54-484c-4cd9-8c22-101ad9781b13",
   "metadata": {
    "tags": []
   },
   "source": [
    "### GitHub"
   ]
  },
  {
   "cell_type": "markdown",
   "id": "1a16bde0-d51f-458b-9538-34b9a165c23d",
   "metadata": {
    "tags": []
   },
   "source": [
    "- [ ] Crear una cuenta de github\n",
    "- [ ] Creando un repo propio\n",
    "- [ ] Obtener un token personal\n",
    "- [ ] Config de llaves ssh"
   ]
  },
  {
   "cell_type": "markdown",
   "id": "f5582a00-c0fd-4d1d-b09b-c0f572f7431e",
   "metadata": {
    "tags": []
   },
   "source": [
    "### Git crash course\n"
   ]
  },
  {
   "cell_type": "markdown",
   "id": "d2123ccf-3c70-405f-a5cc-cb7b1d541fe4",
   "metadata": {},
   "source": [
    "#### Configuraciones básicas\n",
    "\n",
    "- `git config  user.name \"Dieguito Maradona\"`\n",
    "- `git config user.email \"maradona@gmail.com\"`\n",
    "    - Usa la bandera `--global` para configuraciones a nivel global\n"
   ]
  },
  {
   "cell_type": "markdown",
   "id": "9a5c8dd9-085e-4901-816a-f13c93ac45b6",
   "metadata": {
    "tags": []
   },
   "source": [
    "#### Clonando un repositorio remoto"
   ]
  },
  {
   "cell_type": "markdown",
   "id": "6fab5d9a-be7e-419d-bcd1-e9b7f9eb2573",
   "metadata": {},
   "source": [
    "- `git clone <url>`"
   ]
  },
  {
   "cell_type": "markdown",
   "id": "99007aec-f070-42fd-8797-51e0822203d0",
   "metadata": {
    "tags": []
   },
   "source": [
    "#### Agregando y confirmando cambios"
   ]
  },
  {
   "cell_type": "markdown",
   "id": "6281060f-4639-4caf-92e6-b082ec9bde7c",
   "metadata": {},
   "source": [
    "- `git add`: Este comando agrega archivos al área de staging que es previa al área de cambios definitivos\n",
    "    - Agregar achivos individuales\n",
    "    - Agregar por extension\n",
    "    - Agregar todo en un directorio\n",
    "- `git commit`: Confirma los cambios que esten en el area de staging. Se crea un punto en la historia del proyecto\n",
    "    - **Buenas prácticas**:\n",
    "        - El commit debe ser acompañado con un mensaje descriptivo de los cambios\n",
    "        - Es mejor hacer varios commits que hagan una cosa pequeña en lugar de un solo commit con muchos cambios\n",
    "        - Recomendable seguir algun estandar. Ya sea definido por el equipo o [algún otro](https://www.freecodecamp.org/news/how-to-write-better-git-commit-messages/)\n",
    "- `git status`: Verificamos el estado actual del proyecto. ¿Qué cambios hubo y dónde?\n",
    "- `.gitignore`: Archivo de texto que permite excluir archivos para que `git` los ignore\n",
    "- `git push` y `git pull`: Para mandar y recibir cambios desde un repositorio remoto (o sea algún lugar fuera de nuetra PC gamer)\n",
    "- `git log`: Revisar el historial de commits del proyecto, sus mensajes y quien realizó los cambios\n",
    "\n",
    "![Git workflow](img/git_work_model.png)\n",
    "\n",
    "**PRACTICE TIME**"
   ]
  },
  {
   "cell_type": "markdown",
   "id": "28801fa7-9e13-4534-86e2-294499974c1f",
   "metadata": {
    "tags": []
   },
   "source": [
    "#### Ramas\n",
    "\n",
    "![Branches](img/branches.svg)"
   ]
  },
  {
   "cell_type": "markdown",
   "id": "b65bf6dc-c133-40d5-8ada-efd0aead6855",
   "metadata": {},
   "source": [
    "- Parte fundamental del software `git` es su manejo de ramas (o *branches*)\n",
    "- Considerada la *killer feature* de `git`\n",
    "- Trabajar con ramas permite explorar nuevos desarrollos sin romper, ensuciar o arruinar nuestra rama principal\n",
    "    - Considerenlo un universo paralelo (o multiverso)\n",
    "    - Trabajar en diferentes versiones del software de forma simultanea"
   ]
  },
  {
   "cell_type": "markdown",
   "id": "4f753c10-c188-44e2-9a28-bc61deb281bf",
   "metadata": {
    "tags": []
   },
   "source": [
    "##### Comandos útiles para manejo de ramas"
   ]
  },
  {
   "cell_type": "markdown",
   "id": "0cc76aab-fd68-49d6-9999-fee34c4a4c90",
   "metadata": {
    "tags": []
   },
   "source": [
    "- `git checkout -b <nueva-rama>`\n",
    "- `git branch`\n",
    "- `git merge`"
   ]
  },
  {
   "cell_type": "markdown",
   "id": "398b9629-10da-4a5c-8bb2-dcec02592941",
   "metadata": {},
   "source": [
    "#### Remotos\n",
    "\n",
    "- Recuerdan que existian los repositorios remotos?\n",
    "- Podemos sincronizar nuestro trabajo local de una rama especifica con el servidor \n",
    "- `git push origin <nombre-rama>`\n",
    "    - **NOTA:** `origin` es el nombre por defecto del respositorio remoto. Se puede llamar como queramos"
   ]
  },
  {
   "cell_type": "markdown",
   "id": "fe82b8d5-5d8b-4508-bf83-24edfe9cc604",
   "metadata": {},
   "source": [
    "#### Forks"
   ]
  },
  {
   "cell_type": "markdown",
   "id": "97ff5eb8-1694-468c-9f43-9883155731ca",
   "metadata": {},
   "source": [
    "- Un fork es una copia de un respositorio de GitHub pero que ahora es de tu autoría.\n",
    "- Sin embargo, el respositorio original queda ligado con la copia que realizaste\n",
    "- Por medio de forks es que podemos realizar contribuciones a respositorios ajenos 🤗"
   ]
  },
  {
   "cell_type": "markdown",
   "id": "0b50e9b1-2b59-4e53-af85-98b3f0e280c4",
   "metadata": {
    "tags": []
   },
   "source": [
    "#### Creando mi primer Pull Request"
   ]
  },
  {
   "cell_type": "markdown",
   "id": "dd7b3e19-ceb0-4683-b6ec-0bc16126b32a",
   "metadata": {},
   "source": [
    "![Pull Request](img/pr.svg)"
   ]
  },
  {
   "cell_type": "markdown",
   "id": "2f3b3f40-4333-482e-a876-b73a8914b555",
   "metadata": {},
   "source": [
    "#### Conectando remotos nuevos"
   ]
  },
  {
   "cell_type": "markdown",
   "id": "ab9ad4e6-d677-4c7d-a250-408b25db6b97",
   "metadata": {},
   "source": [
    "- `git remote add <nombre-remoto> <url>`"
   ]
  },
  {
   "cell_type": "markdown",
   "id": "77e4476a-5d28-4fef-a597-afc705b72532",
   "metadata": {},
   "source": [
    "#### Sincronizar el repo local con un repo forkeado"
   ]
  },
  {
   "cell_type": "markdown",
   "id": "505d1c33-0ca4-4a1f-8a5e-20a59f926ce7",
   "metadata": {},
   "source": [
    "- `git pull <remoto> <rama-a-sync>`"
   ]
  },
  {
   "cell_type": "markdown",
   "id": "3b62d3c9-0ca1-4a37-bb02-f3cc1dc1bb8b",
   "metadata": {},
   "source": [
    "## Google colab"
   ]
  },
  {
   "cell_type": "markdown",
   "id": "a868cc2d-be66-4ea0-bec4-a337e5031e0a",
   "metadata": {},
   "source": [
    "- Plataforma para ejecutar código python desde un navegador\n",
    "- Se requiere tener una cuenta de Google\n",
    "- Recursos de computo compartidos\n",
    "- Los archivos se guardan en tu Drive o puedes guardar copias en GitHub\n",
    "- https://colab.research.google.com/\n"
   ]
  },
  {
   "cell_type": "markdown",
   "id": "a9505dc1-4aaf-4633-a337-451f9244f269",
   "metadata": {},
   "source": [
    "### Flujo de trabajo"
   ]
  },
  {
   "cell_type": "markdown",
   "id": "e7f436cf-6293-4663-8f84-46b6e22bfec8",
   "metadata": {},
   "source": [
    "#### La primera vez"
   ]
  },
  {
   "cell_type": "markdown",
   "id": "334c9347-9387-4e96-8549-765c8d40e161",
   "metadata": {},
   "source": [
    "0. [ ] Crear cuenta de Github\n",
    "1. [ ] Crear un fork del [repositorio de prácticas](https://github.com/umoqnier/cl-2024-1-lab)\n",
    "2. [ ] Clonar **tu fork** en tu computadora\n",
    "    - **OJO 👁️👄👁️**: No el repositorio princial, es tu fork el que debes clonar"
   ]
  },
  {
   "cell_type": "markdown",
   "id": "7f3e97ee-f90a-422a-81cf-792525bcb633",
   "metadata": {},
   "source": [
    "#### Entrega de práctica"
   ]
  },
  {
   "cell_type": "markdown",
   "id": "1c4dbd0b-3c72-4dd9-adf6-7cb0c777be35",
   "metadata": {},
   "source": [
    "0. [ ] Crear una rama nueva para entregar la práctica\n",
    "    - Se recomienda usar nombres descriptivos\n",
    "        - `git checkout -b practica02/arboles-sintaxis`\n",
    "1. [ ] Hacer su práctica*\n",
    "    - Si es práctica individual crear una carpeta con su nombre completo en la raíz.\n",
    "        - `DiegoAlbertoBarrigaMartinez/`\n",
    "    - Dentro crear una carpeta por práctica en cuestion\n",
    "        - `DiegoAlbertoBarrigaMartinez/practica01/`\n",
    "    - Si es una práctica en equipo crear una carpeta con el nombre del equipo\n",
    "        - `EquipoKrustaceo/practica02`\n",
    "        - Agregar un archivo con el nombre de los miembros del equipo\n",
    "        - `$ echo \"Diego Barriga\\nJuan Rios\" > miembros.md`\n",
    "2. [ ] Hacer commits de sus cambios\n",
    "    - Idealmente seguir las buenas prácticas de los commits\n",
    "3. [ ] Hacer push de los cambios a **tu fork**\n",
    "4. [ ] Crear *Pull Request*\n",
    "    - Despues de una revisión la práctica se acepta o en su defecto se notificará que se requieren cambios\n",
    "5. [ ] Los cambios se agregan al repositorio principal\n",
    "\n",
    "**DEMO TIME**"
   ]
  },
  {
   "cell_type": "markdown",
   "id": "d8df4957-4a9c-4eb0-b150-8a32362290c9",
   "metadata": {
    "tags": []
   },
   "source": [
    "### Opciones para \"Hacer su práctica\""
   ]
  },
  {
   "cell_type": "markdown",
   "id": "1c33a82d-c481-4111-8acd-4ebd2ab295cd",
   "metadata": {},
   "source": [
    "#### Opcion 1:\n",
    "\n",
    "- Realizar su práctica desde Google Colab, descargar el cuaderno y subirlo desde línea de comandos"
   ]
  },
  {
   "cell_type": "markdown",
   "id": "47a0dbd0-ac16-4707-a509-41fb279d6a03",
   "metadata": {},
   "source": [
    "#### Opcion 2:\n",
    "\n",
    "- Realizar su práctica desde Google Colab y hacer el commit desde ahí"
   ]
  },
  {
   "cell_type": "markdown",
   "id": "0965f434-96e6-4a05-80ae-17fade22a4b1",
   "metadata": {},
   "source": [
    "#### Opcion 3:\n",
    "\n",
    "- Realizar su práctica localmente y subir sus cambios desde linea de comandos"
   ]
  },
  {
   "cell_type": "markdown",
   "id": "8fa299c4-225b-421c-80fc-1bdf149a1410",
   "metadata": {
    "tags": []
   },
   "source": [
    "# Práctica 0: Crear su primer PR con su nombre\n"
   ]
  },
  {
   "cell_type": "markdown",
   "id": "3b9bb1c9-a60e-4bf0-857c-3602b2dee40d",
   "metadata": {},
   "source": [
    "**Fecha de entrega máxima: 18 de Agosto 2024 11:59P.M. UTC-6**\n",
    "- Crear un PR hacia el repositorio principal del laboratorio\n",
    "- El PR deberá crear una carpeta con tu nombre completo en la raíz del repositorio\n",
    "    - `DiegoAlbertoBarrigaMartinez/`\n",
    "- Agrega un archivo llamado `README.md` a esta carpeta y escribe la información que corresponda a tu caso. Ejemplo:\n",
    "    - `DiegoAlbertoBarrigaMartinez/README.md`\n",
    "    - Usar lenguaje de marcado [Markdown](https://docs.github.com/es/get-started/writing-on-github/getting-started-with-writing-and-formatting-on-github/basic-writing-and-formatting-syntax)\n",
    "\n",
    "```markdown\n",
    "# Diego Alberto Barriga Martínez\n",
    "\n",
    "- Número de cuenta: `XXXXXXXX`\n",
    "- User de Github: @umoqnier\n",
    "\n",
    "## Pasatiempos\n",
    "\n",
    "- Andar en bici\n",
    "\n",
    "## Proyectos en los que he participado y que me enorgullesen 🖤\n",
    "\n",
    "- (Esquite)[https://github.com/ElotlMX/Esquite/]\n",
    "```"
   ]
  },
  {
   "cell_type": "markdown",
   "id": "cacd67f9-7552-43bc-bcf0-65d0e37dd170",
   "metadata": {},
   "source": [
    "## Links útiles\n",
    "\n",
    "- [Repositorio de prácticas del lab ⭐](https://github.com/umoqnier/cl-2024-1-lab)\n",
    "- [Git branches](https://git-scm.com/book/en/v2/Git-Branching-Branches-in-a-Nutshell)\n",
    "- [Write better commit messages](https://www.freecodecamp.org/news/how-to-write-better-git-commit-messages/)\n",
    "- [Guia sencilla a git](https://rogerdudler.github.io/git-guide/index.es.html)\n",
    "- [¿Cómo forkear un repo?](https://docs.github.com/es/get-started/quickstart/fork-a-repo)\n",
    "- [Hola mundo de Github](https://docs.github.com/es/get-started/quickstart/hello-world)\n",
    "- [Sintaxis básica de Markdown](https://docs.github.com/es/get-started/writing-on-github/getting-started-with-writing-and-formatting-on-github/basic-writing-and-formatting-syntax)"
   ]
  }
 ],
 "metadata": {
  "kernelspec": {
   "display_name": "Python 3 (ipykernel)",
   "language": "python",
   "name": "python3"
  },
  "language_info": {
   "codemirror_mode": {
    "name": "ipython",
    "version": 3
   },
   "file_extension": ".py",
   "mimetype": "text/x-python",
   "name": "python",
   "nbconvert_exporter": "python",
   "pygments_lexer": "ipython3",
   "version": "3.11.3"
  }
 },
 "nbformat": 4,
 "nbformat_minor": 5
}
