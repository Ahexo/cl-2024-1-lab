{
 "cells": [
  {
   "cell_type": "markdown",
   "id": "040c998d-09c3-48cc-99c0-d18bb12ca229",
   "metadata": {},
   "source": [
    "# Laboratorio de Computación Lingüistica\n",
    "\n",
    "## Temario\n",
    "\n",
    "1. Introducción al laboratorio y configuraciones\n",
    "    * ¿Qué vamos a trabajar?\n",
    "    * Git + Github\n",
    "    * Metodología de entrega de tareas y practicas\n",
    "    * __PRACTICA:__ Configuración de `python`, `jupyter-labs` y el plug-in para `git` \n",
    "2. Fundamentos de `python` y relación con el Procesamiento del Lenguaje Natural (PLN)\n",
    "    * Estructuras de control, tipos de datos, funciones y bibliotecas chidas\n",
    "    * Python y el Procesamiento del Lenguaje Natural (PLN)\n",
    "    * Paquetes que utilizaremos: `nltk`, `spicy`, `py-elotl`\n",
    "    * __PRACTICA:__ Cuéntame un cuento y las palabras que contiene\n",
    "3. Preprocesamiento de textos\n",
    "    * Tokenizers\n",
    "      * Buscando la aguja en el pajar con `REGEX`\n",
    "      * Me lo conto un pajarito: TweetTokenizer\n",
    "      * Normalización de textos (nieve y lemas)\n",
    "      * Alto a las Stop Words\n",
    "      * N-gramas\n",
    "    * __PRACTICA:__ Encuentra el significado de la vida, el universo y todo lo demás\n",
    "4. TODO..."
   ]
  },
  {
   "cell_type": "markdown",
   "id": "c0095dd9-9ba9-4e64-8533-283a7ad6ccc4",
   "metadata": {},
   "source": [
    "## ¿Qué vamos a trabajar?\n",
    "\n",
    "- Laboratorio que cubre el aspecto práctico de la materia\n",
    "- Varias prácticas pequeñas (procurando) ir a la par con los temas de la clase principal\n",
    "- Entregables a través de Github usando la herramienta git (más al respecto a continuación)\n",
    "- Tareas ocasionales\n",
    "- Una práctica final interante"
   ]
  },
  {
   "cell_type": "markdown",
   "id": "07b18364-3786-42a3-938e-3656db5b8d17",
   "metadata": {},
   "source": [
    "## Introducción git y Github\n",
    "\n",
    "\n",
    "### Objetivo\n",
    "\n",
    "El alumno conocerá la herramienta `git` para el control de versiones y aprendera a usarla desde línea de comandos y desde una interface gráfica. \n",
    "\n",
    "## ¿Qué es git y pa' que sirve?\n",
    "\n",
    "Software libre cuyo proposito es versionar los archivos de un **directorio de trabajo** dado. Se le conoce como Sistema de control de versiones.\n",
    "\n",
    "![Imagen de versiones de word](todo)\n",
    "\n",
    "## Sistemas de control de versiones\n",
    "  - Guardado de versiones de archivos\n",
    "  - Visualizar diferencias entre archivos\n",
    "  - Trabaja con texto principalmente\n",
    "  - Asociación de cambios con autorxs\n",
    "  - Regresar en el tiempo a versiones anteriores"
   ]
  },
  {
   "cell_type": "markdown",
   "id": "f810e75f-1075-4491-9021-99fbcb9be0de",
   "metadata": {},
   "source": [
    "## Caracteristicas de git\n",
    "  - Creado en el contexto del desarrollo del kernel de linux\n",
    "  ![Video de contribuciones del kernel](todo)\n",
    "  - Enfoque distribuido\n",
    "  - Velocidad y simpleza\n",
    "  - Creación de multiples ramas\n",
    "  - Varias desarrolladoras trabajando en un mismo proyecto\n",
    "  \n",
    "### Areas de trabajo\n",
    "\n",
    "Git trabaja con tres áreas principales:\n",
    "1. Working directory\n",
    "2. Staging area\n",
    "3. .git o donde se guardan los commits\n",
    "\n",
    "![imagen de las areas de trabajo](todo)\n",
    "\n",
    "### ¿Cómo mover archivos entre areas?\n",
    "\n",
    "- `vim archivo.c` - Modifica un archivo y git detecta cambios\n",
    "- `git add` - Envia las modificaciones al *staging area*\n",
    "- `git commit` - Guarda los cambios que estuvieran en el *staging area* en el directorio `.git`\n",
    "- `git reset` - Se pueden deshacer cambios en el *staging area*"
   ]
  },
  {
   "cell_type": "markdown",
   "id": "f26dbd9b-8009-44de-9f61-682a97083dda",
   "metadata": {},
   "source": [
    "## Instalación de git\n",
    "\n",
    "- Windows, linux y mac\n",
    "\n",
    "### Configuraciones básicas\n",
    "\n",
    "- `git config --global user.name \"Dieguito Maradona\"`\n",
    "- `git config --global user.email \"maradona@gmail.com\"`"
   ]
  },
  {
   "cell_type": "markdown",
   "id": "d676a127-b5fb-4ac4-b696-641f94aa0553",
   "metadata": {},
   "source": [
    "## Creando repositorios locales\n",
    "\n",
    "- `git init`"
   ]
  },
  {
   "cell_type": "markdown",
   "id": "07d9af54-484c-4cd9-8c22-101ad9781b13",
   "metadata": {},
   "source": [
    "## GitHub\n",
    "\n",
    "### Creando una cuenta de github\n",
    "\n",
    "### Creando un repo propio\n",
    "\n",
    "### Configuración de llaves ssh\n",
    "\n",
    "- [Generación de claves ssh](https://docs.github.com/es/authentication/connecting-to-github-with-ssh)"
   ]
  },
  {
   "cell_type": "markdown",
   "id": "51837bd1-921f-4399-bc16-47274eec3a0c",
   "metadata": {},
   "source": [
    "## Clonando un repositorio remoto\n",
    "\n",
    "- `git clone <url>`"
   ]
  },
  {
   "cell_type": "code",
   "execution_count": null,
   "id": "5d3b130e-b36f-4c20-bbe8-26ad589fc3db",
   "metadata": {},
   "outputs": [],
   "source": []
  }
 ],
 "metadata": {
  "kernelspec": {
   "display_name": "Python 3 (ipykernel)",
   "language": "python",
   "name": "python3"
  },
  "language_info": {
   "codemirror_mode": {
    "name": "ipython",
    "version": 3
   },
   "file_extension": ".py",
   "mimetype": "text/x-python",
   "name": "python",
   "nbconvert_exporter": "python",
   "pygments_lexer": "ipython3",
   "version": "3.11.3"
  }
 },
 "nbformat": 4,
 "nbformat_minor": 5
}
