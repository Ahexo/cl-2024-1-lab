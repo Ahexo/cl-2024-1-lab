{
 "cells": [
  {
   "cell_type": "markdown",
   "id": "040c998d-09c3-48cc-99c0-d18bb12ca229",
   "metadata": {
    "tags": []
   },
   "source": [
    "# Laboratorio de Computación Lingüistica\n",
    "\n",
    "## Temario\n",
    "\n",
    "1. Introducción al laboratorio y configuraciones\n",
    "    * ¿Qué vamos a trabajar?\n",
    "    * Git + Github\n",
    "    * ¿Cómo vamos a trabajar? Metodología de entrega de tareas y practicas\n",
    "    * __PRACTICA:__ Configuración de `python`, `jupyter-labs` y el plug-in para `git` \n",
    "2. Fundamentos de `python` y relación con el Procesamiento del Lenguaje Natural (PLN)\n",
    "    * Estructuras de control, tipos de datos, funciones y bibliotecas chidas\n",
    "    * Python y el Procesamiento del Lenguaje Natural (PLN)\n",
    "    * Paquetes que utilizaremos: `nltk`, `spicy`, `py-elotl`\n",
    "    * __PRACTICA:__ Cuéntame un cuento y las palabras que contiene\n",
    "3. Preprocesamiento de textos\n",
    "    * Tokenizers\n",
    "      * Buscando la aguja en el pajar con `REGEX`\n",
    "      * Me lo conto un pajarito: TweetTokenizer\n",
    "      * Normalización de textos (nieve y lemas)\n",
    "      * Alto a las Stop Words\n",
    "      * N-gramas\n",
    "    * __PRACTICA:__ Encuentra el significado de la vida, el universo y todo lo demás\n",
    "4. TODO..."
   ]
  },
  {
   "cell_type": "markdown",
   "id": "c0095dd9-9ba9-4e64-8533-283a7ad6ccc4",
   "metadata": {},
   "source": [
    "## ¿Qué vamos a trabajar?\n",
    "\n",
    "- Laboratorio que cubre el aspecto práctico de la materia\n",
    "- Varias prácticas pequeñas (procurando) ir a la par con los temas de la clase principal\n",
    "- Entregables a través de Github usando la herramienta git (más al respecto a continuación)\n",
    "- Tareas ocasionales\n",
    "- Una práctica final interante\n",
    "\n",
    "**NOTA: Es obligatorio pasar el laboratorio para aprobar la materia 😨**"
   ]
  },
  {
   "cell_type": "markdown",
   "id": "b65d216f-d5a1-455f-9f3e-421de2c47893",
   "metadata": {
    "tags": []
   },
   "source": [
    "## Practicas (tentativas)\n",
    "\n",
    "1. Configuracion de python, git y entorno de trabajo\n",
    "2. Ley de ziph, normalizacion y tokenizacion\n",
    "3. Word embedings, matriz documento termino \n",
    "4. Traduccion automatica\n",
    "5. LLMs y promt engineering"
   ]
  },
  {
   "cell_type": "markdown",
   "id": "0647ea84-d949-418a-a37a-6807d674a648",
   "metadata": {},
   "source": [
    "## Sobre mi y contacto\n",
    "\n",
    "Soy MLOps engineer en Mercado Libre, desarrollador de software libre en Comunidad Elotl y LIDSoL. Me late la cultura libre, andar en bici y uso arch BTW :p\n",
    "\n",
    "![Fotos de lidsol y elotl](todo)\n",
    "<div style=\"display: flex; justify-content: space-between;\">\n",
    "    \n",
    "</div>\n",
    "\n",
    "- dbarriga@ciencias.unam.mx\n",
    "- Telegram: @umoqnier\n"
   ]
  },
  {
   "cell_type": "markdown",
   "id": "07b18364-3786-42a3-938e-3656db5b8d17",
   "metadata": {},
   "source": [
    "## Introducción `git` y Github\n",
    "\n",
    "\n",
    "### Objetivo\n",
    "\n",
    "El alumno conocerá la herramienta `git` para el control de versiones y aprendera a usarla desde línea de comandos y desde una interface gráfica. \n",
    "\n",
    "## ¿Qué es git y pa' que sirve?\n",
    "\n",
    "Software libre cuyo proposito es versionar los archivos de un **directorio de trabajo** dado. Se le conoce como Sistema de control de versiones.\n",
    "\n",
    "![Imagen de versiones de word](img/file_versioning.jpg)\n",
    "\n",
    "## Sistemas de control de versiones\n",
    "  - Guardado de versiones de archivos\n",
    "  - Visualizar diferencias entre archivos\n",
    "  - Trabaja con texto principalmente\n",
    "  - Asociación de cambios con autorxs\n",
    "  - Regresar en el tiempo a versiones anteriores"
   ]
  },
  {
   "cell_type": "markdown",
   "id": "f810e75f-1075-4491-9021-99fbcb9be0de",
   "metadata": {},
   "source": [
    "## Caracteristicas de git\n",
    "  - Creado en el contexto del desarrollo del [kernel de linux](https://www.youtube.com/watch?v=5iFnzr73XXk)\n",
    "  - Enfoque distribuido\n",
    "  - Velocidad y simpleza\n",
    "  - Creación de multiples ramas\n",
    "  - Varias desarrolladoras trabajando en un mismo proyecto\n",
    "  \n",
    "### Areas de trabajo\n",
    "\n",
    "Git trabaja con tres áreas principales:\n",
    "1. Working directory\n",
    "2. Staging area\n",
    "3. Repositorio local (`.git`)\n",
    "    - Aquí se guardan los commits (en tu computadora local)\n",
    "\n",
    "![imagen de las areas de trabajo](img/git_areas.png)\n",
    "\n",
    "### ¿Cómo mover archivos entre areas?\n",
    "\n",
    "- `vim archivo.c` - Modifica un archivo y git detecta cambios\n",
    "- `git add` - Envia las modificaciones al *staging area*\n",
    "- `git commit` - Guarda los cambios que estuvieran en el *staging area* en el directorio `.git`\n",
    "- `git reset` - Se pueden deshacer cambios en el *staging area*"
   ]
  },
  {
   "cell_type": "markdown",
   "id": "f26dbd9b-8009-44de-9f61-682a97083dda",
   "metadata": {},
   "source": [
    "## Instalación de git\n",
    "\n",
    "- Windows, linux y mac"
   ]
  },
  {
   "cell_type": "markdown",
   "id": "07d9af54-484c-4cd9-8c22-101ad9781b13",
   "metadata": {
    "tags": []
   },
   "source": [
    "## GitHub\n",
    "\n",
    "### Creando una cuenta de github\n",
    "\n",
    "### Creando un repo propio\n",
    "\n",
    "### Configuración de llaves ssh\n",
    "\n",
    "- [Generación de claves ssh](https://docs.github.com/es/authentication/connecting-to-github-with-ssh)"
   ]
  },
  {
   "cell_type": "markdown",
   "id": "51837bd1-921f-4399-bc16-47274eec3a0c",
   "metadata": {
    "tags": []
   },
   "source": [
    "## Clonando un repositorio remoto\n",
    "\n",
    "- `git clone <url>`\n",
    "\n",
    "![Imagen de repo remoto y local](todo)"
   ]
  },
  {
   "cell_type": "markdown",
   "id": "f5582a00-c0fd-4d1d-b09b-c0f572f7431e",
   "metadata": {
    "tags": []
   },
   "source": [
    "## Git crash course\n",
    "\n",
    "\n",
    "### Configuraciones básicas\n",
    "\n",
    "- `git config --global user.name \"Dieguito Maradona\"`\n",
    "- `git config --global user.email \"maradona@gmail.com\"`\n",
    "\n",
    "### Creando repositorios locales\n",
    "\n",
    "- `git init`"
   ]
  },
  {
   "cell_type": "markdown",
   "id": "99007aec-f070-42fd-8797-51e0822203d0",
   "metadata": {},
   "source": [
    "### Agregando y confirmando cambios"
   ]
  },
  {
   "cell_type": "markdown",
   "id": "6281060f-4639-4caf-92e6-b082ec9bde7c",
   "metadata": {},
   "source": [
    "- `git add`: Este comando agrega archivos al área de staging que es previa al área de cambios definitivos\n",
    "    - Agregar achivos individuales\n",
    "    - Agregar por extension\n",
    "    - Agregar todo en un directorio\n",
    "- `git commit`: Confirma los cambios que esten en el area de staging. Se crea un punto en la historia del proyecto\n",
    "\n",
    "**PRACTICE TIME**"
   ]
  },
  {
   "cell_type": "markdown",
   "id": "93948dbd-5f3f-49b6-8abe-b7c0840c2386",
   "metadata": {},
   "source": [
    "- `git status`\n",
    "- `git push` y `git pull`\n",
    "- `git log`"
   ]
  },
  {
   "cell_type": "markdown",
   "id": "28801fa7-9e13-4534-86e2-294499974c1f",
   "metadata": {},
   "source": [
    "### Ramas"
   ]
  },
  {
   "cell_type": "markdown",
   "id": "b16fab45-e34d-4b4a-a582-4bc75ee635d7",
   "metadata": {},
   "source": [
    "### Usando el plugin de git para Jupyter-lab"
   ]
  },
  {
   "cell_type": "markdown",
   "id": "fe82b8d5-5d8b-4508-bf83-24edfe9cc604",
   "metadata": {},
   "source": [
    "### Forks"
   ]
  },
  {
   "cell_type": "markdown",
   "id": "0b50e9b1-2b59-4e53-af85-98b3f0e280c4",
   "metadata": {
    "tags": []
   },
   "source": [
    "### Creando mi primer Pull Request"
   ]
  },
  {
   "cell_type": "code",
   "execution_count": null,
   "id": "fa42c321-d759-4fd6-b9ed-e2ff0dd64493",
   "metadata": {},
   "outputs": [],
   "source": []
  }
 ],
 "metadata": {
  "kernelspec": {
   "display_name": "Python 3 (ipykernel)",
   "language": "python",
   "name": "python3"
  },
  "language_info": {
   "codemirror_mode": {
    "name": "ipython",
    "version": 3
   },
   "file_extension": ".py",
   "mimetype": "text/x-python",
   "name": "python",
   "nbconvert_exporter": "python",
   "pygments_lexer": "ipython3",
   "version": "3.11.3"
  }
 },
 "nbformat": 4,
 "nbformat_minor": 5
}
