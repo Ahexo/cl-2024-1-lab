{
 "cells": [
  {
   "cell_type": "markdown",
   "id": "a1d17ddb-81e1-492f-a0a5-5a55d94f7e4c",
   "metadata": {
    "id": "a1d17ddb-81e1-492f-a0a5-5a55d94f7e4c"
   },
   "source": [
    "# 1. Fonología"
   ]
  },
  {
   "cell_type": "markdown",
   "id": "7568912a-5945-46c0-aeb4-6106e8f36635",
   "metadata": {
    "id": "7568912a-5945-46c0-aeb4-6106e8f36635"
   },
   "source": [
    "## Objetivo"
   ]
  },
  {
   "cell_type": "markdown",
   "id": "1db19ad2-dbd9-4a56-843a-1133e440641e",
   "metadata": {
    "id": "1db19ad2-dbd9-4a56-843a-1133e440641e"
   },
   "source": [
    "- Læs alumnæs entenderán que es la fonología y un alfabeto fonético\n",
    "- Manipularan datasets disponibles en repositorios de Github\n",
    "- Guardaran estos datasets en una estructura de datos\n",
    "- Recuperarán información reelevante de esta estructura para resolver una tarea específica"
   ]
  },
  {
   "cell_type": "markdown",
   "id": "54563b4d-3c1a-4a23-9716-73554e263fb0",
   "metadata": {
    "id": "54563b4d-3c1a-4a23-9716-73554e263fb0"
   },
   "source": [
    "## ¿Qué es la fonología?"
   ]
  },
  {
   "cell_type": "markdown",
   "id": "3fb13d94-e6af-44dc-aa94-608b99feafff",
   "metadata": {
    "id": "3fb13d94-e6af-44dc-aa94-608b99feafff"
   },
   "source": [
    "- La fonología es una rama de la Lingüística que estudia como los humanos producimos y percibimos el lenguaje\n",
    "    - Producción: La forma en que producimos el lenguaje\n",
    "    - Percepción: La forma en que interpretamos el lenguaje"
   ]
  },
  {
   "cell_type": "code",
   "execution_count": 1,
   "id": "e529deca-fb69-4072-91ed-7a5063443d62",
   "metadata": {
    "colab": {
     "base_uri": "https://localhost:8080/",
     "height": 438
    },
    "id": "e529deca-fb69-4072-91ed-7a5063443d62",
    "outputId": "99786df6-a97f-49d7-9ea7-b8eeb6c65f54",
    "tags": []
   },
   "outputs": [
    {
     "data": {
      "text/html": [
       "<iframe width=\"760\" height=\"415\" src=\"https://www.youtube.com/embed/DcNMCB-Gsn8?controls=1\"></iframe>\n"
      ],
      "text/plain": [
       "<IPython.core.display.HTML object>"
      ]
     },
     "metadata": {},
     "output_type": "display_data"
    }
   ],
   "source": [
    "%%HTML\n",
    "<iframe width=\"760\" height=\"415\" src=\"https://www.youtube.com/embed/DcNMCB-Gsn8?controls=1\"></iframe>"
   ]
  },
  {
   "cell_type": "markdown",
   "id": "ae09ec8d-b9e9-4e66-9878-63c514fb57f0",
   "metadata": {
    "id": "ae09ec8d-b9e9-4e66-9878-63c514fb57f0"
   },
   "source": [
    "#### Formas comunes\n",
    "\n",
    "- Oral-Aural\n",
    "    - Producción: La boca\n",
    "    - Percepción: Oidos\n",
    "- Manual-visual\n",
    "    - Producción: Manual usando las manos\n",
    "    - Percepción: Visual\n",
    "- Manual-Manual\n",
    "    - Producción: Manual usando las manos\n",
    "    - Percepción: Manual usando las manos"
   ]
  },
  {
   "cell_type": "markdown",
   "id": "029a8e17-03ed-417c-b2f3-512fd1ee5fd9",
   "metadata": {
    "id": "029a8e17-03ed-417c-b2f3-512fd1ee5fd9"
   },
   "source": [
    "#### International Phonetic Alphabet (IPA)\n",
    "\n",
    "- Las lenguas naturales tienen muchos sonidos diferentes por lo que necesitamos una forma de describirlos independientemente de las lenguas\n",
    "- Por ejemplo: Los sonidos del habla se determinan por los movimientos de la boca necesarios para producirlos\n",
    "- Las dos grandes categorías: Consonantes y Vocales\n",
    "- IPA es una representación escrita de los [sonidos](https://www.ipachart.com/) del habla"
   ]
  },
  {
   "cell_type": "markdown",
   "id": "COzTRH3QXdWl",
   "metadata": {
    "id": "COzTRH3QXdWl",
    "tags": []
   },
   "source": [
    "### Dataset: IPA-dict de open-dict\n",
    "\n",
    "- Diccionario de palabras para varios idiomas con su representación fonética\n",
    "- Representación simple, una palabra por renglon con el formato:\n",
    "\n",
    "```\n",
    "[PALABRA][TAB][IPA]\n",
    "\n",
    "Ejemplos\n",
    "mariguana\t/maɾiɣwana/\n",
    "zyuganov's   /ˈzjuɡɑnɑvz/, /ˈzuɡɑnɑvz/\n",
    "```\n",
    "\n",
    "- [Github repo](https://github.com/open-dict-data/ipa-dict)\n",
    "  - [ISO language codes](https://en.wikipedia.org/wiki/List_of_ISO_639-1_codes)\n",
    "  - URL: `https://raw.githubusercontent.com/open-dict-data/ipa-dict/master/data/<iso-lang>`"
   ]
  },
  {
   "cell_type": "markdown",
   "id": "c-Q91_zR859L",
   "metadata": {
    "id": "c-Q91_zR859L",
    "jp-MarkdownHeadingCollapsed": true,
    "tags": []
   },
   "source": [
    "### Explorando el corpus"
   ]
  },
  {
   "cell_type": "code",
   "execution_count": 6,
   "id": "dfCkH58988vq",
   "metadata": {
    "colab": {
     "base_uri": "https://localhost:8080/",
     "height": 35
    },
    "id": "dfCkH58988vq",
    "outputId": "99b72bdf-937c-45ad-c92e-a2e99acf50a2",
    "tags": []
   },
   "outputs": [
    {
     "name": "stdout",
     "output_type": "stream",
     "text": [
      "/zɪˈwɪki/\n",
      "\n"
     ]
    }
   ],
   "source": [
    "import requests as r\n",
    "\n",
    "response = r.get(\"https://raw.githubusercontent.com/open-dict-data/ipa-dict/master/data/en_US.txt\")\n",
    "#print(response.text)\n",
    "print(response.text[-10:])"
   ]
  },
  {
   "cell_type": "code",
   "execution_count": 7,
   "id": "wTGoSBgXmlos",
   "metadata": {
    "colab": {
     "base_uri": "https://localhost:8080/"
    },
    "id": "wTGoSBgXmlos",
    "outputId": "1ea38999-41df-4fe6-a728-745e495f46d6",
    "tags": []
   },
   "outputs": [
    {
     "name": "stdout",
     "output_type": "stream",
     "text": [
      "('zɪˈskɔfski/\\n'\n",
      " 'zyuganov\\t/ˈzjuɡɑnɑv/, /ˈzuɡɑnɑv/\\n'\n",
      " \"zyuganov's\\t/ˈzjuɡɑnɑvz/, /ˈzuɡɑnɑvz/\\n\"\n",
      " 'zywicki\\t/zɪˈwɪki/\\n')\n"
     ]
    }
   ],
   "source": [
    "from pprint import pp\n",
    "pp(response.text[-100:])"
   ]
  },
  {
   "cell_type": "code",
   "execution_count": 8,
   "id": "4ukj7OZRR02D",
   "metadata": {
    "colab": {
     "base_uri": "https://localhost:8080/"
    },
    "id": "4ukj7OZRR02D",
    "outputId": "414b1e2c-0f56-4554-dd87-1a907d123c3f",
    "tags": []
   },
   "outputs": [
    {
     "name": "stdout",
     "output_type": "stream",
     "text": [
      "[\"'bout\\t/ˈbaʊt/\", \"'cause\\t/kəz/\", \"'course\\t/ˈkɔɹs/\", \"'cuse\\t/ˈkjuz/\", \"'em\\t/əm/\", \"'frisco\\t/ˈfɹɪskoʊ/\", \"'gain\\t/ˈɡɛn/\", \"'kay\\t/ˈkeɪ/\", \"'m\\t/əm/\", \"'n\\t/ən/\"]\n",
      "abbreviate\t/əˈbɹiviˌeɪt/\n",
      "''\n",
      "'zywicki\\t/zɪˈwɪki/'\n",
      "[\"zyuganov's\", '/ˈzjuɡɑnɑvz/, /ˈzuɡɑnɑvz/']\n"
     ]
    }
   ],
   "source": [
    "words = response.text.split(\"\\n\")\n",
    "print(words[:10])\n",
    "print(words[100])\n",
    "pp(words[-1])\n",
    "pp(words[-2])\n",
    "print(words[-3].split('\\t'))"
   ]
  },
  {
   "cell_type": "markdown",
   "id": "cJMkPF06jJJp",
   "metadata": {
    "id": "cJMkPF06jJJp",
    "jp-MarkdownHeadingCollapsed": true,
    "tags": []
   },
   "source": [
    "### Obteniendo el corpus"
   ]
  },
  {
   "cell_type": "code",
   "execution_count": 9,
   "id": "YSRb9cx5jM8d",
   "metadata": {
    "id": "YSRb9cx5jM8d",
    "tags": []
   },
   "outputs": [],
   "source": [
    "lang_codes = {\n",
    "  \"ar\": \"Arabic (Modern Standard)\",\n",
    "  \"de\": \"German\",\n",
    "  \"en_UK\": \"English (Received Pronunciation)\",\n",
    "  \"en_US\": \"English (General American)\",\n",
    "  \"eo\": \"Esperanto\",\n",
    "  \"es_ES\": \"Spanish (Spain)\",\n",
    "  \"es_MX\": \"Spanish (Mexico)\",\n",
    "  \"fa\": \"Persian\",\n",
    "  \"fi\": \"Finnish\",\n",
    "  \"fr_FR\": \"French (France)\",\n",
    "  \"fr_QC\": \"French (Québec)\",\n",
    "  \"is\": \"Icelandic\",\n",
    "  \"ja\": \"Japanese\",\n",
    "  \"jam\": \"Jamaican Creole\",\n",
    "  \"km\": \"Khmer\",\n",
    "  \"ko\": \"Korean\",\n",
    "  \"ma\": \"Malay (Malaysian and Indonesian)\",\n",
    "  \"nb\": \"Norwegian Bokmål\",\n",
    "  \"nl\": \"Dutch\",\n",
    "  \"or\": \"Odia\",\n",
    "  \"ro\": \"Romanian\",\n",
    "  \"sv\": \"Swedish\",\n",
    "  \"sw\": \"Swahili\",\n",
    "  \"tts\": \"Isan\",\n",
    "  \"vi_C\": \"Vietnamese (Central)\",\n",
    "  \"vi_N\": \"Vietnamese (Northern)\",\n",
    "  \"vi_S\": \"Vietnamese (Southern)\",\n",
    "  \"yue\": \"Cantonese\",\n",
    "  \"zh\": \"Mandarin\"\n",
    "}\n",
    "iso_lang_codes = list(lang_codes.keys())"
   ]
  },
  {
   "cell_type": "code",
   "execution_count": 10,
   "id": "3vfeGyqYkI9V",
   "metadata": {
    "id": "3vfeGyqYkI9V",
    "tags": []
   },
   "outputs": [],
   "source": [
    "def response_to_dict(ipa_list: list) -> dict:\n",
    "    \"\"\"Parse to dict the list of word-IPA\n",
    "\n",
    "    Each element of text hae the format:\n",
    "    [WORD][TAB][IPA]\n",
    "\n",
    "    Parameters\n",
    "    ----------\n",
    "    ipa_list: list\n",
    "        List with each row of ipa-dict raw dataset file\n",
    "\n",
    "    Returns\n",
    "    -------\n",
    "    dict:\n",
    "        A dictionary with the word as key and the phonetic\n",
    "        representation as value\n",
    "    \"\"\"\n",
    "    result = {}\n",
    "    for item in ipa_list:\n",
    "        item_list = item.split(\"\\t\")\n",
    "        result[item_list[0]] = item_list[1]\n",
    "    return result\n",
    "\n",
    "def get_ipa_dict(iso_lang: str) -> dict:\n",
    "    \"\"\"Get ipa-dict file from Github\n",
    "\n",
    "    Parameters:\n",
    "    -----------\n",
    "    iso_lang:\n",
    "        Language as iso code\n",
    "\n",
    "    Results:\n",
    "    --------\n",
    "    dict:\n",
    "        Dictionary with words as keys and phonetic representation\n",
    "        as values for a given lang code\n",
    "    \"\"\"\n",
    "    response = r.get(f\"https://raw.githubusercontent.com/open-dict-data/ipa-dict/master/data/{iso_lang}.txt\")\n",
    "    raw_data = response.text.split(\"\\n\")\n",
    "    return response_to_dict(raw_data[:-1])\n",
    "\n",
    "def get_ipa_transcriptions(word: str, dataset: dict) -> list[str]:\n",
    "    \"\"\"Search for word in a given dataset of IPA phonetics\n",
    "\n",
    "    Given a word this function return the IPA transcriptions\n",
    "\n",
    "    Parameters:\n",
    "    -----------\n",
    "    word: str\n",
    "        A word to search in the dataset\n",
    "    dataset: dict\n",
    "        A dataset for a given language code\n",
    "    Returns\n",
    "    -------\n",
    "    \"\"\"\n",
    "    return dataset.get(word.lower(), \"NOT FOUND\").split(\", \")\n"
   ]
  },
  {
   "cell_type": "markdown",
   "id": "h9Ri8YmwMnxR",
   "metadata": {
    "id": "h9Ri8YmwMnxR"
   },
   "source": [
    "#### Obtengamos un par de datasets"
   ]
  },
  {
   "cell_type": "code",
   "execution_count": 11,
   "id": "SDspkhcdLmtx",
   "metadata": {
    "id": "SDspkhcdLmtx",
    "tags": []
   },
   "outputs": [],
   "source": [
    "dataset_es_mx = get_ipa_dict(\"es_MX\")\n",
    "dataset_en_us = get_ipa_dict(\"en_US\")"
   ]
  },
  {
   "cell_type": "code",
   "execution_count": 12,
   "id": "abpslzJRMvD6",
   "metadata": {
    "colab": {
     "base_uri": "https://localhost:8080/"
    },
    "id": "abpslzJRMvD6",
    "outputId": "df3c1dd3-69aa-44b4-a47e-391f705f2ec1",
    "tags": []
   },
   "outputs": [
    {
     "name": "stdout",
     "output_type": "stream",
     "text": [
      "dog | ['/ˈdɔɡ/']🐶\n",
      "mariguana | ['/maɾiɣwana/'] 🪴\n"
     ]
    }
   ],
   "source": [
    "print(f\"dog | {get_ipa_transcriptions('dog', dataset_en_us)}🐶\")\n",
    "print(f\"mariguana | {get_ipa_transcriptions('mariguana', dataset_es_mx)} 🪴\")"
   ]
  },
  {
   "cell_type": "code",
   "execution_count": 14,
   "id": "drw73avU9-ct",
   "metadata": {
    "colab": {
     "base_uri": "https://localhost:8080/"
    },
    "id": "drw73avU9-ct",
    "outputId": "2850e113-069f-451b-d564-0700180ac8cf",
    "tags": []
   },
   "outputs": [
    {
     "name": "stdout",
     "output_type": "stream",
     "text": [
      "[es_MX] hotel | /otel/\n",
      "[en_US] hotel | /hoʊˈtɛɫ/\n"
     ]
    }
   ],
   "source": [
    "print(f\"[es_MX] hotel | {dataset_es_mx['hotel']}\")\n",
    "print(f\"[en_US] hotel | {dataset_en_us['hotel']}\")"
   ]
  },
  {
   "cell_type": "code",
   "execution_count": 15,
   "id": "WcCmgrgnT9wK",
   "metadata": {
    "id": "WcCmgrgnT9wK",
    "tags": []
   },
   "outputs": [],
   "source": [
    "def get_dataset() -> dict:\n",
    "    \"\"\"Download corpora from ipa-dict github\n",
    "\n",
    "    Given a list of iso lang codes download available datasets.\n",
    "\n",
    "    Returns\n",
    "    -------\n",
    "    dict\n",
    "        Lang codes as keys and dictionary with words-transcriptions\n",
    "        as values\n",
    "    \"\"\"\n",
    "    return {code: get_ipa_dict(code) for code in iso_lang_codes}\n",
    "\n",
    "dataset = get_dataset()"
   ]
  },
  {
   "cell_type": "markdown",
   "id": "LvIugo1xLc4O",
   "metadata": {
    "id": "LvIugo1xLc4O",
    "jp-MarkdownHeadingCollapsed": true,
    "tags": []
   },
   "source": [
    "### Busquedas básicas automatizada"
   ]
  },
  {
   "cell_type": "code",
   "execution_count": 27,
   "id": "f5b7fbc2-4b95-4233-9fa6-17493bb2afb3",
   "metadata": {
    "colab": {
     "base_uri": "https://localhost:8080/"
    },
    "id": "f5b7fbc2-4b95-4233-9fa6-17493bb2afb3",
    "outputId": "7bcf29f3-3f23-4b51-ffc3-ac5c8aab2fa9",
    "tags": []
   },
   "outputs": [
    {
     "name": "stdout",
     "output_type": "stream",
     "text": [
      "Representación fonética de palabras\n",
      "Lenguas disponibles: ['ar', 'de', 'en_UK', 'en_US', 'eo', 'es_ES', 'es_MX', 'fa', 'fi', 'fr_FR', 'fr_QC', 'is', 'ja', 'jam', 'km', 'ko', 'ma', 'nb', 'nl', 'or', 'ro', 'sv', 'sw', 'tts', 'vi_C', 'vi_N', 'vi_S', 'yue', 'zh']\n",
      "lang>> en_US\n",
      "Selected language: English (General American)\n",
      "  [en_US]word>> the\n",
      "the /ˈðə/, /ðə/, /ði/\n",
      "  [en_US]word>> hello\n",
      "hello /həˈɫoʊ/, /hɛˈɫoʊ/\n",
      "  [en_US]word>> \n",
      " \n",
      "lang>> es_MX\n",
      "Selected language: Spanish (Mexico)\n",
      "  [es_MX]word>> MORENO\n",
      "MORENO /moɾeno/\n",
      "  [es_MX]word>> sereno\n",
      "sereno /seɾeno/\n",
      "  [es_MX]word>> \n",
      " \n",
      "lang>> \n",
      "Adios 👋🏼\n"
     ]
    }
   ],
   "source": [
    "print(\"Representación fonética de palabras\")\n",
    "\n",
    "print(f\"Lenguas disponibles: {(iso_lang_codes)}\")\n",
    "\n",
    "lang = input(\"lang>> \")\n",
    "print(f\"Selected language: {lang_codes[lang]}\") if lang else print(\"Adios 👋🏼\")\n",
    "while lang:\n",
    "    sub_dataset = dataset[lang]\n",
    "    query = input(f\"  [{lang}]word>> \")\n",
    "    results = get_ipa_transcriptions(query, sub_dataset)\n",
    "    print(query, \" | \", \", \".join(results))\n",
    "    while query:\n",
    "        query = input(f\"  [{lang}]word>> \")\n",
    "        print(query, sub_dataset.get(query, query))\n",
    "    lang = input(\"lang>> \")\n",
    "    print(f\"Selected language: {lang_codes[lang]}\") if lang else print(\"Adios 👋🏼\")"
   ]
  },
  {
   "cell_type": "markdown",
   "id": "8TLGghJWFbIZ",
   "metadata": {
    "id": "8TLGghJWFbIZ",
    "jp-MarkdownHeadingCollapsed": true,
    "tags": []
   },
   "source": [
    "### Encontrando palabras que tengan terminación similar"
   ]
  },
  {
   "cell_type": "code",
   "execution_count": 42,
   "id": "B1JaTm-lUy3c",
   "metadata": {
    "colab": {
     "base_uri": "https://localhost:8080/"
    },
    "id": "B1JaTm-lUy3c",
    "outputId": "becc120f-14aa-450f-cca3-0cb6beb6f430"
   },
   "outputs": [
    {
     "name": "stdout",
     "output_type": "stream",
     "text": [
      "Palabras que terminan con pronunciacion similar\n",
      "ɣo:: juego, fuego\n",
      "on:: con, corazón\n",
      "ʎa:: brilla, orilla\n"
     ]
    }
   ],
   "source": [
    "from collections import defaultdict\n",
    "\n",
    "#sentence = \"There once was a cat that ate a rat and after that sat on a yellow mat\"\n",
    "#sentence = \"the cat sat on the mat and looked at the rat.\"\n",
    "#sentence = \"If you drop the ball it will fall on the doll\"\n",
    "sentence = \"cuando juego con fuego siento como brilla la orilla de mi corazón\"\n",
    "\n",
    "#lang = \"en_US\"\n",
    "lang = \"es_MX\"\n",
    "words = sentence.split(\" \")\n",
    "\n",
    "# Get words and IPA transciptions map\n",
    "word_ipa_map = {}\n",
    "for word in words:\n",
    "    ipa_transcriptions = get_ipa_transcriptions(word=word, dataset=dataset.get(lang))\n",
    "    ipa_transcriptions = [_.strip(\"/\") for _ in ipa_transcriptions]\n",
    "    word_ipa_map.update({word: ipa_transcriptions })\n",
    "\n",
    "rhyming_patterns = defaultdict(list)\n",
    "for word, ipa_list in word_ipa_map.items():\n",
    "    for ipa in ipa_list:\n",
    "        ipa_pattern = ipa[-2:]\n",
    "        rhyming_patterns[ipa_pattern].append(word)\n",
    "\n",
    "for pattern, words in rhyming_patterns.items():\n",
    "    if len(set(words)) > 1:\n",
    "        print(f\"{pattern}:: {', '.join(words)}\")"
   ]
  },
  {
   "cell_type": "markdown",
   "id": "bFfv_5FnANgs",
   "metadata": {
    "id": "bFfv_5FnANgs",
    "jp-MarkdownHeadingCollapsed": true,
    "tags": []
   },
   "source": [
    "### Práctica 1: Buscador equivalencias fonéticas en un corpus\n",
    "\n",
    "**Fecha de entrega: Domingo 27 de Agosto 2023 11:59pm**"
   ]
  },
  {
   "cell_type": "markdown",
   "id": "10a92491-bf7c-423b-a7d6-c1e9a83a7646",
   "metadata": {},
   "source": [
    "- Agregar un nuevo modo de búsqueda donde se extienda el comportamiento básico del buscador para ahora buscar por frases. Ejemplo:\n",
    "\n",
    "```\n",
    "[es_MX]>>> Hola que hace\n",
    " /ola/ /ke/ /ase/\n",
    "```\n",
    "\n",
    "- Optimizar el código para agregar los datasets en un \"cache\" a demanda y no descargar todo el corpus de un trancazo. Esto quiere decir que al inicio de la ejecución no habrá ningun dataset descargado. Mientras la usuaria vaya seleccionado idiomas los irá agregando a un cache local (puede ser persistente o en memoria). Ejemplo:\n",
    "\n",
    "```\n",
    "lang>> es_MX\n",
    "Corpus no encontrado. Descargando ...\n",
    "[es_MX]>>\n",
    "...\n",
    "lang>> en_US\n",
    "Corpus no encontrado. Descargando ...\n",
    "[en_US]>>\n",
    "...\n",
    "lang>> es_MX\n",
    "[es_MX]>>\n",
    "...\n",
    "```"
   ]
  },
  {
   "cell_type": "markdown",
   "id": "489f0112-0248-4569-8616-b4e9019da299",
   "metadata": {
    "tags": []
   },
   "source": [
    "#### EXTRA"
   ]
  },
  {
   "cell_type": "markdown",
   "id": "1136d162-139b-41bb-8715-ecc4ec1afb66",
   "metadata": {},
   "source": [
    "- Mejorar la solución al escenario cuando no se encuentran las palabras en el dataset mostrando palabras similares. Ejemplo:\n",
    "\n",
    "```\n",
    "[es_MX]>> pero\n",
    "No se encontro <<pero>> en el dataset. Palabras aproximadas:\n",
    "perro /pero/\n",
    "perno /peɾno/\n",
    "[es_MX]>>\n",
    "```"
   ]
  }
 ],
 "metadata": {
  "colab": {
   "provenance": []
  },
  "kernelspec": {
   "display_name": "Python 3 (ipykernel)",
   "language": "python",
   "name": "python3"
  },
  "language_info": {
   "codemirror_mode": {
    "name": "ipython",
    "version": 3
   },
   "file_extension": ".py",
   "mimetype": "text/x-python",
   "name": "python",
   "nbconvert_exporter": "python",
   "pygments_lexer": "ipython3",
   "version": "3.11.3"
  }
 },
 "nbformat": 4,
 "nbformat_minor": 5
}
