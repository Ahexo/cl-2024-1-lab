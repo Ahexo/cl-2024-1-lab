{
 "cells": [
  {
   "cell_type": "markdown",
   "id": "a1d17ddb-81e1-492f-a0a5-5a55d94f7e4c",
   "metadata": {
    "id": "a1d17ddb-81e1-492f-a0a5-5a55d94f7e4c"
   },
   "source": [
    "# 1. Fonología"
   ]
  },
  {
   "cell_type": "markdown",
   "id": "7568912a-5945-46c0-aeb4-6106e8f36635",
   "metadata": {
    "id": "7568912a-5945-46c0-aeb4-6106e8f36635"
   },
   "source": [
    "## Objetivo"
   ]
  },
  {
   "cell_type": "markdown",
   "id": "1db19ad2-dbd9-4a56-843a-1133e440641e",
   "metadata": {
    "id": "1db19ad2-dbd9-4a56-843a-1133e440641e"
   },
   "source": [
    "- Læs alumnæs entenderán que es la fonología y un alfabeto fonético\n",
    "- Manipularan datasets disponibles en repositorios de Github\n",
    "- Guardaran estos datasets en una estructura de datos\n",
    "- Recuperarán información reelevante de esta estructura para resolver una tarea específica"
   ]
  },
  {
   "cell_type": "markdown",
   "id": "54563b4d-3c1a-4a23-9716-73554e263fb0",
   "metadata": {
    "id": "54563b4d-3c1a-4a23-9716-73554e263fb0"
   },
   "source": [
    "## ¿Qué es la fonología?"
   ]
  },
  {
   "cell_type": "markdown",
   "id": "3fb13d94-e6af-44dc-aa94-608b99feafff",
   "metadata": {
    "id": "3fb13d94-e6af-44dc-aa94-608b99feafff"
   },
   "source": [
    "- La fonología es una rama de la Lingüística que estudia como los humanos producimos y percibimos el lenguaje\n",
    "    - Producción: La forma en que producimos el lenguaje\n",
    "    - Percepción: La forma en que interpretamos el lenguaje"
   ]
  },
  {
   "cell_type": "code",
   "execution_count": null,
   "id": "e529deca-fb69-4072-91ed-7a5063443d62",
   "metadata": {
    "colab": {
     "base_uri": "https://localhost:8080/",
     "height": 438
    },
    "id": "e529deca-fb69-4072-91ed-7a5063443d62",
    "outputId": "99786df6-a97f-49d7-9ea7-b8eeb6c65f54",
    "tags": []
   },
   "outputs": [
    {
     "data": {
      "text/html": [
       "<iframe width=\"760\" height=\"415\" src=\"https://www.youtube.com/embed/DcNMCB-Gsn8?controls=1\"></iframe>\n"
      ],
      "text/plain": [
       "<IPython.core.display.HTML object>"
      ]
     },
     "metadata": {},
     "output_type": "display_data"
    }
   ],
   "source": [
    "%%HTML\n",
    "<iframe width=\"760\" height=\"415\" src=\"https://www.youtube.com/embed/DcNMCB-Gsn8?controls=1\"></iframe>"
   ]
  },
  {
   "cell_type": "markdown",
   "id": "ae09ec8d-b9e9-4e66-9878-63c514fb57f0",
   "metadata": {
    "id": "ae09ec8d-b9e9-4e66-9878-63c514fb57f0"
   },
   "source": [
    "#### Formas comunes\n",
    "\n",
    "- Oral-Aural\n",
    "    - Producción: La boca\n",
    "    - Percepción: Oidos\n",
    "- Manual-visual\n",
    "    - Producción: Manual usando las manos\n",
    "    - Percepción: Visual\n",
    "- Manual-Manual\n",
    "    - Producción: Manual usando las manos\n",
    "    - Percepción: Manual usando las manos"
   ]
  },
  {
   "cell_type": "markdown",
   "id": "029a8e17-03ed-417c-b2f3-512fd1ee5fd9",
   "metadata": {
    "id": "029a8e17-03ed-417c-b2f3-512fd1ee5fd9"
   },
   "source": [
    "#### International Phonetic Alphabet (IPA)\n",
    "\n",
    "- Las lenguas naturales tienen muchos sonidos diferentes por lo que necesitamos una forma de describirlos independientemente de las lenguas\n",
    "- Por ejemplo: Los sonidos del habla se determinan por los movimientos de la boca necesarios para producirlos\n",
    "- Las dos grandes categorías: Consonantes y Vocales\n",
    "- IPA es una representación escrita de los [sonidos](https://www.ipachart.com/) del habla"
   ]
  },
  {
   "cell_type": "markdown",
   "id": "COzTRH3QXdWl",
   "metadata": {
    "id": "COzTRH3QXdWl"
   },
   "source": [
    "### Dataset: IPA-dict de open-dict\n",
    "\n",
    "- Diccionario de palabras para varios idiomas con su representación fonética\n",
    "- Representación simple, una palabra por renglon con el formato:\n",
    "\n",
    "```\n",
    "[PALABRA][TAB][IPA]\n",
    "\n",
    "Ejemplos\n",
    "mariguana\t/maɾiɣwana/\n",
    "zyuganov's   /ˈzjuɡɑnɑvz/, /ˈzuɡɑnɑvz/\n",
    "```\n",
    "\n",
    "- [Github repo](https://github.com/open-dict-data/ipa-dict)\n",
    "  - [ISO language codes](https://en.wikipedia.org/wiki/List_of_ISO_639-1_codes)\n",
    "  - URL: `https://raw.githubusercontent.com/open-dict-data/ipa-dict/master/data/<iso-lang>`"
   ]
  },
  {
   "cell_type": "markdown",
   "id": "c-Q91_zR859L",
   "metadata": {
    "id": "c-Q91_zR859L"
   },
   "source": [
    "### Explorando el corpus"
   ]
  },
  {
   "cell_type": "code",
   "execution_count": 3,
   "id": "dfCkH58988vq",
   "metadata": {
    "colab": {
     "base_uri": "https://localhost:8080/",
     "height": 121
    },
    "id": "dfCkH58988vq",
    "outputId": "10dd9d94-cb8a-4ba1-ef88-5bb2214c94d2"
   },
   "outputs": [
    {
     "data": {
      "application/vnd.google.colaboratory.intrinsic+json": {
       "type": "string"
      },
      "text/plain": [
       "\"/ˌɑˈhus/\\naaron\\t/ˈɛɹən/\\naaron's\\t/ˈɛɹənz/\\naarons\\t/ˈɛɹənz/\\naaronson\\t/ˈɑɹənsən/, /ˈɛɹənsən/\\naaronson's\\t/ˈɑɹənsənz/, /ˈɛɹənsənz/\\naarti\\t/ˈɑɹˌti/\\naase\\t/ˈɑs/\\naasen\\t/ˈɑsən/\\nab\\t/ˈæb/, /ˈeɪˈbi/\\naba\\t/ˌeɪˌbiˈeɪ/\\nababa\\t/ˈɑbəbə/, /əˈbɑbə/\\nabacha\\t/ˈæbəkə/\\naback\\t/əˈbæk/\\nabaco\\t/ˈæbəˌkoʊ/\\nabacus\\t/ˈæbəkəs/\\nabad\\t/əˈbɑd/\\nabadaka\\t/əˈbædəkə/\\nabadi\\t/əˈbædi/\\nabadie\\t/əˈbædi/\\nabair\\t/əˈbɛɹ/\\nabalkin\\t/əˈbɑɫkɪn/\\nabalone\\t/ˌæbəˈɫoʊni/\\nabalones\\t/ˌæbəˈɫoʊniz/\\nabalos\\t/ɑˈbɑɫoʊz/\\nabandon\\t/əˈbændən/\\nabandoned\\t/əˈbændənd/\\nabandoning\\t/ə\""
      ]
     },
     "execution_count": 3,
     "metadata": {},
     "output_type": "execute_result"
    }
   ],
   "source": [
    "import requests as r\n",
    "\n",
    "response = r.get(\"https://raw.githubusercontent.com/open-dict-data/ipa-dict/master/data/en_US.txt\")\n",
    "#response.text\n",
    "response.text[500:1000]"
   ]
  },
  {
   "cell_type": "code",
   "execution_count": 4,
   "id": "wTGoSBgXmlos",
   "metadata": {
    "colab": {
     "base_uri": "https://localhost:8080/"
    },
    "id": "wTGoSBgXmlos",
    "outputId": "8e153ba0-2286-43f7-96f7-0ebafb2c72d5"
   },
   "outputs": [
    {
     "name": "stdout",
     "output_type": "stream",
     "text": [
      "('/ˌɑˈhus/\\n'\n",
      " 'aaron\\t/ˈɛɹən/\\n'\n",
      " \"aaron's\\t/ˈɛɹənz/\\n\"\n",
      " 'aarons\\t/ˈɛɹənz/\\n'\n",
      " 'aaronson\\t/ˈɑɹənsən/, /ˈɛɹənsən/\\n'\n",
      " \"aaronson's\\t/ˈɑɹənsənz/, /ˈɛɹənsənz/\\n\"\n",
      " 'aarti\\t/ˈɑɹˌti/\\n'\n",
      " 'aase\\t/ˈɑs/\\n'\n",
      " 'aasen\\t/ˈɑsən/\\n'\n",
      " 'ab\\t/ˈæb/, /ˈeɪˈbi/\\n'\n",
      " 'aba\\t/ˌeɪˌbiˈeɪ/\\n'\n",
      " 'ababa\\t/ˈɑbəbə/, /əˈbɑbə/\\n'\n",
      " 'abacha\\t/ˈæbəkə/\\n'\n",
      " 'aback\\t/əˈbæk/\\n'\n",
      " 'abaco\\t/ˈæbəˌkoʊ/\\n'\n",
      " 'abacus\\t/ˈæbəkəs/\\n'\n",
      " 'abad\\t/əˈbɑd/\\n'\n",
      " 'abadaka\\t/əˈbædəkə/\\n'\n",
      " 'abadi\\t/əˈbædi/\\n'\n",
      " 'abadie\\t/əˈbædi/\\n'\n",
      " 'abair\\t/əˈbɛɹ/\\n'\n",
      " 'abalkin\\t/əˈbɑɫkɪn/\\n'\n",
      " 'abalone\\t/ˌæbəˈɫoʊni/\\n'\n",
      " 'abalones\\t/ˌæbəˈɫoʊniz/\\n'\n",
      " 'abalos\\t/ɑˈbɑɫoʊz/\\n'\n",
      " 'abandon\\t/əˈbændən/\\n'\n",
      " 'abandoned\\t/əˈbændənd/\\n'\n",
      " 'abandoning\\t/ə')\n"
     ]
    }
   ],
   "source": [
    "from pprint import pp\n",
    "pp(response.text[500:1000])"
   ]
  },
  {
   "cell_type": "code",
   "execution_count": 5,
   "id": "4ukj7OZRR02D",
   "metadata": {
    "colab": {
     "base_uri": "https://localhost:8080/"
    },
    "id": "4ukj7OZRR02D",
    "outputId": "a719a75e-8b0b-4629-b2d0-256c0c211bd2"
   },
   "outputs": [
    {
     "name": "stdout",
     "output_type": "stream",
     "text": [
      "[\"'bout\\t/ˈbaʊt/\", \"'cause\\t/kəz/\", \"'course\\t/ˈkɔɹs/\", \"'cuse\\t/ˈkjuz/\", \"'em\\t/əm/\", \"'frisco\\t/ˈfɹɪskoʊ/\", \"'gain\\t/ˈɡɛn/\", \"'kay\\t/ˈkeɪ/\", \"'m\\t/əm/\", \"'n\\t/ən/\"]\n",
      "abbreviate\t/əˈbɹiviˌeɪt/\n",
      "''\n",
      "'zywicki\\t/zɪˈwɪki/'\n",
      "[\"zyuganov's\", '/ˈzjuɡɑnɑvz/, /ˈzuɡɑnɑvz/']\n"
     ]
    }
   ],
   "source": [
    "words = response.text.split(\"\\n\")\n",
    "print(words[:10])\n",
    "print(words[100])\n",
    "pp(words[-1])\n",
    "pp(words[-2])\n",
    "print(words[-3].split('\\t'))"
   ]
  },
  {
   "cell_type": "markdown",
   "id": "cJMkPF06jJJp",
   "metadata": {
    "id": "cJMkPF06jJJp"
   },
   "source": [
    "### Obteniendo el corpus"
   ]
  },
  {
   "cell_type": "code",
   "execution_count": 6,
   "id": "YSRb9cx5jM8d",
   "metadata": {
    "id": "YSRb9cx5jM8d"
   },
   "outputs": [],
   "source": [
    "lang_codes = {\n",
    "  \"ar\": \"Arabic (Modern Standard)\",\n",
    "  \"de\": \"German\",\n",
    "  \"en_UK\": \"English (Received Pronunciation)\",\n",
    "  \"en_US\": \"English (General American)\",\n",
    "  \"eo\": \"Esperanto\",\n",
    "  \"es_ES\": \"Spanish (Spain)\",\n",
    "  \"es_MX\": \"Spanish (Mexico)\",\n",
    "  \"fa\": \"Persian\",\n",
    "  \"fi\": \"Finnish\",\n",
    "  \"fr_FR\": \"French (France)\",\n",
    "  \"fr_QC\": \"French (Québec)\",\n",
    "  \"is\": \"Icelandic\",\n",
    "  \"ja\": \"Japanese\",\n",
    "  \"jam\": \"Jamaican Creole\",\n",
    "  \"km\": \"Khmer\",\n",
    "  \"ko\": \"Korean\",\n",
    "  \"ma\": \"Malay (Malaysian and Indonesian)\",\n",
    "  \"nb\": \"Norwegian Bokmål\",\n",
    "  \"nl\": \"Dutch\",\n",
    "  \"or\": \"Odia\",\n",
    "  \"ro\": \"Romanian\",\n",
    "  \"sv\": \"Swedish\",\n",
    "  \"sw\": \"Swahili\",\n",
    "  \"tts\": \"Isan\",\n",
    "  \"vi_C\": \"Vietnamese (Central)\",\n",
    "  \"vi_N\": \"Vietnamese (Northern)\",\n",
    "  \"vi_S\": \"Vietnamese (Southern)\",\n",
    "  \"yue\": \"Cantonese\",\n",
    "  \"zh\": \"Mandarin\"\n",
    "}\n",
    "iso_lang_codes = list(lang_codes.keys())"
   ]
  },
  {
   "cell_type": "code",
   "execution_count": 8,
   "id": "3vfeGyqYkI9V",
   "metadata": {
    "id": "3vfeGyqYkI9V"
   },
   "outputs": [],
   "source": [
    "def response_to_dict(ipa_list: list) -> dict:\n",
    "    \"\"\"Parse to dict the list of word-IPA\n",
    "\n",
    "    Each element of text hae the format:\n",
    "    [WORD][TAB][IPA]\n",
    "\n",
    "    Parameters\n",
    "    ----------\n",
    "    ipa_list: list\n",
    "        List with each row of ipa-dict raw dataset file\n",
    "\n",
    "    Returns\n",
    "    -------\n",
    "    dict:\n",
    "        A dictionary with the word as key and the phonetic\n",
    "        representation as value\n",
    "    \"\"\"\n",
    "    result = {}\n",
    "    for item in ipa_list:\n",
    "        item_list = item.split(\"\\t\")\n",
    "        result[item_list[0]] = item_list[1]\n",
    "    return result\n",
    "\n",
    "def get_ipa_dict(iso_lang: str) -> dict:\n",
    "    \"\"\"Get ipa-dict file from Github\n",
    "\n",
    "    Parameters:\n",
    "    -----------\n",
    "    iso_lang:\n",
    "        Language as iso code\n",
    "\n",
    "    Results:\n",
    "    --------\n",
    "    dict:\n",
    "        Dictionary with words as keys and phonetic representation\n",
    "        as values for a given lang code\n",
    "    \"\"\"\n",
    "    response = r.get(f\"https://raw.githubusercontent.com/open-dict-data/ipa-dict/master/data/{iso_lang}.txt\")\n",
    "    raw_data = response.text.split(\"\\n\")\n",
    "    return response_to_dict(raw_data[:-1])\n",
    "\n",
    "def get_ipa_transcriptions(word: str, dataset: dict) -> list[str]:\n",
    "    \"\"\"Search for word in a given dataset of IPA phonetics\n",
    "\n",
    "    Given a word this function return the IPA transcriptions\n",
    "\n",
    "    Parameters:\n",
    "    -----------\n",
    "    word: str\n",
    "        A word to search in the dataset\n",
    "    dataset: dict\n",
    "        A dataset for a given language code\n",
    "    Returns\n",
    "    -------\n",
    "    \"\"\"\n",
    "    return dataset.get(word.lower(), \"NOT FOUND\").split(\", \")\n"
   ]
  },
  {
   "cell_type": "code",
   "execution_count": 14,
   "id": "xc7dG6M1Rnuu",
   "metadata": {
    "id": "xc7dG6M1Rnuu"
   },
   "outputs": [],
   "source": [
    "d = {\"apple\": 1}\n",
    "d.get('banana')"
   ]
  },
  {
   "cell_type": "markdown",
   "id": "h9Ri8YmwMnxR",
   "metadata": {
    "id": "h9Ri8YmwMnxR"
   },
   "source": [
    "#### Obtengamos un par de datasets"
   ]
  },
  {
   "cell_type": "code",
   "execution_count": 9,
   "id": "SDspkhcdLmtx",
   "metadata": {
    "id": "SDspkhcdLmtx"
   },
   "outputs": [],
   "source": [
    "dataset_es_mx = get_ipa_dict(\"es_MX\")\n",
    "dataset_en_us = get_ipa_dict(\"en_US\")"
   ]
  },
  {
   "cell_type": "code",
   "execution_count": 15,
   "id": "abpslzJRMvD6",
   "metadata": {
    "colab": {
     "base_uri": "https://localhost:8080/"
    },
    "id": "abpslzJRMvD6",
    "outputId": "113ba799-8003-4109-c3d0-ac320ac1064f"
   },
   "outputs": [
    {
     "name": "stdout",
     "output_type": "stream",
     "text": [
      "dog | ['/ˈdɔɡ/']🐶\n",
      "mariguana | ['/maɾiɣwana/'] 🪴\n"
     ]
    }
   ],
   "source": [
    "print(f\"dog | {get_ipa_transcriptions('dog', dataset_en_us)}🐶\")\n",
    "print(f\"mariguana | {get_ipa_transcriptions('mariguana', dataset_es_mx)} 🪴\")"
   ]
  },
  {
   "cell_type": "code",
   "execution_count": 16,
   "id": "drw73avU9-ct",
   "metadata": {
    "colab": {
     "base_uri": "https://localhost:8080/"
    },
    "id": "drw73avU9-ct",
    "outputId": "44caf0d9-b0c2-4a58-9805-3a623354cf2c"
   },
   "outputs": [
    {
     "name": "stdout",
     "output_type": "stream",
     "text": [
      "[es_MX] hotel | /otel/\n",
      "[en_US] hotel | /hoʊˈtɛɫ/\n"
     ]
    }
   ],
   "source": [
    "print(f\"[es_MX] hotel | {dataset_es_mx['hotel']}\")\n",
    "print(f\"[en_US] hotel | {dataset_en_us['hotel']}\")"
   ]
  },
  {
   "cell_type": "code",
   "execution_count": 17,
   "id": "WcCmgrgnT9wK",
   "metadata": {
    "id": "WcCmgrgnT9wK"
   },
   "outputs": [],
   "source": [
    "def get_dataset() -> dict:\n",
    "    \"\"\"Download corpora from ipa-dict github\n",
    "\n",
    "    Given a list of iso lang codes download available datasets.\n",
    "\n",
    "    Returns\n",
    "    -------\n",
    "    dict\n",
    "        Lang codes as keys and dictionary with words-transcriptions\n",
    "        as values\n",
    "    \"\"\"\n",
    "    return {code: get_ipa_dict(code) for code in iso_lang_codes}\n",
    "\n",
    "dataset = get_dataset()"
   ]
  },
  {
   "cell_type": "markdown",
   "id": "LvIugo1xLc4O",
   "metadata": {
    "id": "LvIugo1xLc4O"
   },
   "source": [
    "### Busquedas básicas automatizada"
   ]
  },
  {
   "cell_type": "code",
   "execution_count": 18,
   "id": "ZEI9zRAHTV02",
   "metadata": {
    "colab": {
     "base_uri": "https://localhost:8080/"
    },
    "id": "ZEI9zRAHTV02",
    "outputId": "0fe57bee-762b-4695-ffee-bfb3953dc9f7"
   },
   "outputs": [
    {
     "data": {
      "text/plain": [
       "dict_keys(['ar', 'de', 'en_UK', 'en_US', 'eo', 'es_ES', 'es_MX', 'fa', 'fi', 'fr_FR', 'fr_QC', 'is', 'ja', 'jam', 'km', 'ko', 'ma', 'nb', 'nl', 'or', 'ro', 'sv', 'sw', 'tts', 'vi_C', 'vi_N', 'vi_S', 'yue', 'zh'])"
      ]
     },
     "execution_count": 18,
     "metadata": {},
     "output_type": "execute_result"
    }
   ],
   "source": [
    "dataset.keys()"
   ]
  },
  {
   "cell_type": "code",
   "execution_count": 21,
   "id": "f5b7fbc2-4b95-4233-9fa6-17493bb2afb3",
   "metadata": {
    "colab": {
     "base_uri": "https://localhost:8080/"
    },
    "id": "f5b7fbc2-4b95-4233-9fa6-17493bb2afb3",
    "outputId": "97f5e5f8-216f-4f5f-8368-e0ab4fd015cb",
    "tags": []
   },
   "outputs": [
    {
     "name": "stdout",
     "output_type": "stream",
     "text": [
      "Representación fonética de palabras\n",
      "Lenguas disponibles: ['ar', 'de', 'en_UK', 'en_US', 'eo', 'es_ES', 'es_MX', 'fa', 'fi', 'fr_FR', 'fr_QC', 'is', 'ja', 'jam', 'km', 'ko', 'ma', 'nb', 'nl', 'or', 'ro', 'sv', 'sw', 'tts', 'vi_C', 'vi_N', 'vi_S', 'yue', 'zh']\n",
      "lang>> \n",
      "Adios 👋🏼\n"
     ]
    }
   ],
   "source": [
    "print(\"Representación fonética de palabras\")\n",
    "\n",
    "print(f\"Lenguas disponibles: {(iso_lang_codes)}\")\n",
    "\n",
    "lang = input(\"lang>> \")\n",
    "print(f\"Selected language: {lang_codes[lang]}\") if lang else print(\"Adios 👋🏼\")\n",
    "while lang:\n",
    "    sub_dataset = dataset[lang]\n",
    "    query = input(f\"  [{lang}]word>> \")\n",
    "    results = get_ipa_transcriptions(query, sub_dataset)\n",
    "    print(query, \" | \", \", \".join(results))\n",
    "    while query:\n",
    "        query = input(f\"  [{lang}]word>> \")\n",
    "        print(query, sub_dataset.get(query, query))\n",
    "    lang = input(\"lang>> \")\n",
    "    print(f\"Selected language: {lang_codes[lang]}\") if lang else print(\"Adios 👋🏼\")"
   ]
  },
  {
   "cell_type": "markdown",
   "id": "8TLGghJWFbIZ",
   "metadata": {
    "id": "8TLGghJWFbIZ"
   },
   "source": [
    "### Encontrando palabras que tengan terminación similar"
   ]
  }
 ],
 "metadata": {
  "colab": {
   "provenance": []
  },
  "kernelspec": {
   "display_name": "Python 3 (ipykernel)",
   "language": "python",
   "name": "python3"
  },
  "language_info": {
   "codemirror_mode": {
    "name": "ipython",
    "version": 3
   },
   "file_extension": ".py",
   "mimetype": "text/x-python",
   "name": "python",
   "nbconvert_exporter": "python",
   "pygments_lexer": "ipython3",
   "version": "3.11.3"
  }
 },
 "nbformat": 4,
 "nbformat_minor": 5
}
